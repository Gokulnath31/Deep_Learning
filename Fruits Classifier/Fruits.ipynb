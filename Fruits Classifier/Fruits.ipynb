{
  "nbformat": 4,
  "nbformat_minor": 0,
  "metadata": {
    "colab": {
      "name": "Fruits.ipynb",
      "provenance": []
    },
    "kernelspec": {
      "name": "python3",
      "display_name": "Python 3"
    }
  },
  "cells": [
    {
      "cell_type": "code",
      "metadata": {
        "id": "kdz7cWrsInXD",
        "colab_type": "code",
        "outputId": "a820ee47-1766-40ff-b407-6b6747a9210f",
        "colab": {
          "base_uri": "https://localhost:8080/",
          "height": 850
        }
      },
      "source": [
        "# https://deeplearningcourses.com/c/advanced-computer-vision\n",
        "# https://www.udemy.com/advanced-computer-vision\n",
        "from __future__ import print_function, division\n",
        "from builtins import range, input\n",
        "# Note: you may need to update your version of future\n",
        "# sudo pip install -U future\n",
        "\n",
        "from tensorflow.keras.layers import Input, Lambda, Dense, Flatten\n",
        "from tensorflow.keras.models import Model\n",
        "from tensorflow.keras.applications.vgg16 import VGG16\n",
        "from tensorflow.keras.applications.vgg16 import preprocess_input\n",
        "from tensorflow.keras.preprocessing import image\n",
        "from tensorflow.keras.preprocessing.image import ImageDataGenerator\n",
        "\n",
        "from sklearn.metrics import confusion_matrix\n",
        "import numpy as np\n",
        "import matplotlib.pyplot as plt\n",
        "\n",
        "\n",
        "\n",
        "\n",
        "\n",
        "\n",
        "\n",
        "# add preprocessing layer to the front of VGG\n",
        "vgg = VGG16(input_shape=(100,100,3), weights='imagenet', include_top=False)\n",
        "\n",
        "# don't train existing weights\n",
        "for layer in vgg.layers:\n",
        "  layer.trainable = False\n",
        "\n",
        "# our layers - you can add more if you want\n",
        "x = Flatten()(vgg.output)\n",
        "# x = Dense(1000, activation='relu')(x)\n",
        "prediction = Dense(120, activation='softmax')(x)\n",
        "\n",
        "\n",
        "# create a model object\n",
        "model = Model(inputs=vgg.input, outputs=prediction)\n",
        "\n",
        "# view the structure of the model\n",
        "model.summary()\n",
        "\n",
        "# tell the model what cost and optimization method to use\n",
        "model.compile(\n",
        "  loss='categorical_crossentropy',\n",
        "  optimizer='rmsprop',\n",
        "  metrics=['accuracy']\n",
        ")\n",
        "\n",
        "\n",
        "\n"
      ],
      "execution_count": 0,
      "outputs": [
        {
          "output_type": "stream",
          "text": [
            "Model: \"model_1\"\n",
            "_________________________________________________________________\n",
            "Layer (type)                 Output Shape              Param #   \n",
            "=================================================================\n",
            "input_2 (InputLayer)         [(None, 100, 100, 3)]     0         \n",
            "_________________________________________________________________\n",
            "block1_conv1 (Conv2D)        (None, 100, 100, 64)      1792      \n",
            "_________________________________________________________________\n",
            "block1_conv2 (Conv2D)        (None, 100, 100, 64)      36928     \n",
            "_________________________________________________________________\n",
            "block1_pool (MaxPooling2D)   (None, 50, 50, 64)        0         \n",
            "_________________________________________________________________\n",
            "block2_conv1 (Conv2D)        (None, 50, 50, 128)       73856     \n",
            "_________________________________________________________________\n",
            "block2_conv2 (Conv2D)        (None, 50, 50, 128)       147584    \n",
            "_________________________________________________________________\n",
            "block2_pool (MaxPooling2D)   (None, 25, 25, 128)       0         \n",
            "_________________________________________________________________\n",
            "block3_conv1 (Conv2D)        (None, 25, 25, 256)       295168    \n",
            "_________________________________________________________________\n",
            "block3_conv2 (Conv2D)        (None, 25, 25, 256)       590080    \n",
            "_________________________________________________________________\n",
            "block3_conv3 (Conv2D)        (None, 25, 25, 256)       590080    \n",
            "_________________________________________________________________\n",
            "block3_pool (MaxPooling2D)   (None, 12, 12, 256)       0         \n",
            "_________________________________________________________________\n",
            "block4_conv1 (Conv2D)        (None, 12, 12, 512)       1180160   \n",
            "_________________________________________________________________\n",
            "block4_conv2 (Conv2D)        (None, 12, 12, 512)       2359808   \n",
            "_________________________________________________________________\n",
            "block4_conv3 (Conv2D)        (None, 12, 12, 512)       2359808   \n",
            "_________________________________________________________________\n",
            "block4_pool (MaxPooling2D)   (None, 6, 6, 512)         0         \n",
            "_________________________________________________________________\n",
            "block5_conv1 (Conv2D)        (None, 6, 6, 512)         2359808   \n",
            "_________________________________________________________________\n",
            "block5_conv2 (Conv2D)        (None, 6, 6, 512)         2359808   \n",
            "_________________________________________________________________\n",
            "block5_conv3 (Conv2D)        (None, 6, 6, 512)         2359808   \n",
            "_________________________________________________________________\n",
            "block5_pool (MaxPooling2D)   (None, 3, 3, 512)         0         \n",
            "_________________________________________________________________\n",
            "flatten_1 (Flatten)          (None, 4608)              0         \n",
            "_________________________________________________________________\n",
            "dense_1 (Dense)              (None, 120)               553080    \n",
            "=================================================================\n",
            "Total params: 15,267,768\n",
            "Trainable params: 553,080\n",
            "Non-trainable params: 14,714,688\n",
            "_________________________________________________________________\n"
          ],
          "name": "stdout"
        }
      ]
    },
    {
      "cell_type": "code",
      "metadata": {
        "id": "WXUUdAQhuaKU",
        "colab_type": "code",
        "colab": {}
      },
      "source": [
        "! pip install -q kaggle"
      ],
      "execution_count": 0,
      "outputs": []
    },
    {
      "cell_type": "code",
      "metadata": {
        "id": "FN2xymr-ueSI",
        "colab_type": "code",
        "outputId": "b5ea9e8f-b5f3-41bb-f96c-458a5afa8c42",
        "colab": {
          "resources": {
            "http://localhost:8080/nbextensions/google.colab/files.js": {
              "data": "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",
              "ok": true,
              "headers": [
                [
                  "content-type",
                  "application/javascript"
                ]
              ],
              "status": 200,
              "status_text": ""
            }
          },
          "base_uri": "https://localhost:8080/",
          "height": 90
        }
      },
      "source": [
        "from google.colab import files\n",
        "\n",
        "files.upload()"
      ],
      "execution_count": 0,
      "outputs": [
        {
          "output_type": "display_data",
          "data": {
            "text/html": [
              "\n",
              "     <input type=\"file\" id=\"files-f4a60aea-9a05-4bc1-92a0-31a88c4cf218\" name=\"files[]\" multiple disabled />\n",
              "     <output id=\"result-f4a60aea-9a05-4bc1-92a0-31a88c4cf218\">\n",
              "      Upload widget is only available when the cell has been executed in the\n",
              "      current browser session. Please rerun this cell to enable.\n",
              "      </output>\n",
              "      <script src=\"/nbextensions/google.colab/files.js\"></script> "
            ],
            "text/plain": [
              "<IPython.core.display.HTML object>"
            ]
          },
          "metadata": {
            "tags": []
          }
        },
        {
          "output_type": "stream",
          "text": [
            "Saving kaggle.json to kaggle.json\n"
          ],
          "name": "stdout"
        },
        {
          "output_type": "execute_result",
          "data": {
            "text/plain": [
              "{'kaggle.json': b'{\"username\":\"gokulnath31\",\"key\":\"8bbd6742ff45eb5ce3f23eecc64519e9\"}'}"
            ]
          },
          "metadata": {
            "tags": []
          },
          "execution_count": 3
        }
      ]
    },
    {
      "cell_type": "code",
      "metadata": {
        "id": "ka0Huu9NvoxJ",
        "colab_type": "code",
        "outputId": "1960fdfe-1426-4f7f-8b21-9ba1399e2ca1",
        "colab": {
          "base_uri": "https://localhost:8080/",
          "height": 33
        }
      },
      "source": [
        "! mkdir ~/.kaggle\n",
        "\n",
        "! cp kaggle.json ~/.kaggle/\n",
        "\n",
        "! chmod 600 ~/.kaggle/kaggle.json"
      ],
      "execution_count": 0,
      "outputs": [
        {
          "output_type": "stream",
          "text": [
            "ERROR! Session/line number was not unique in database. History logging moved to new session 59\n"
          ],
          "name": "stdout"
        }
      ]
    },
    {
      "cell_type": "code",
      "metadata": {
        "id": "4MUdxHguwCUG",
        "colab_type": "code",
        "outputId": "8dff2eda-9d34-45f1-972b-9cb8c2013632",
        "colab": {
          "base_uri": "https://localhost:8080/",
          "height": 66
        }
      },
      "source": [
        "!kaggle datasets download -d moltean/fruits"
      ],
      "execution_count": 0,
      "outputs": [
        {
          "output_type": "stream",
          "text": [
            "Downloading fruits.zip to /content\n",
            " 98% 723M/734M [00:04<00:00, 189MB/s]\n",
            "100% 734M/734M [00:04<00:00, 155MB/s]\n"
          ],
          "name": "stdout"
        }
      ]
    },
    {
      "cell_type": "code",
      "metadata": {
        "id": "CIOA-K7GwLim",
        "colab_type": "code",
        "outputId": "c2f30b51-ca26-4c98-e788-d830e743d8fd",
        "colab": {
          "base_uri": "https://localhost:8080/",
          "height": 33
        }
      },
      "source": [
        "!ls"
      ],
      "execution_count": 0,
      "outputs": [
        {
          "output_type": "stream",
          "text": [
            "fruits\tfruits.zip  kaggle.json  sample_data\n"
          ],
          "name": "stdout"
        }
      ]
    },
    {
      "cell_type": "code",
      "metadata": {
        "id": "WBDSkJ3Hwau1",
        "colab_type": "code",
        "colab": {}
      },
      "source": [
        "from shutil import copyfile\n",
        "import os\n",
        "import zipfile\n",
        "import random"
      ],
      "execution_count": 0,
      "outputs": []
    },
    {
      "cell_type": "code",
      "metadata": {
        "id": "WsBEONrWwMcA",
        "colab_type": "code",
        "colab": {}
      },
      "source": [
        "local_zip = '/content/fruits.zip'\n",
        "zip_ref   = zipfile.ZipFile(local_zip, 'r')\n",
        "zip_ref.extractall('/tmp')\n",
        "zip_ref.close()"
      ],
      "execution_count": 0,
      "outputs": []
    },
    {
      "cell_type": "code",
      "metadata": {
        "id": "1wA6K6-9w9MG",
        "colab_type": "code",
        "colab": {}
      },
      "source": [
        "import os\n",
        "path = '/tmp/fruits-360_dataset/fruits-360/Training'\n",
        "filenames = os.listdir(path)\n",
        "for filename in filenames:\n",
        "  os.rename(os.path.join(path, filename), os.path.join(path, filename.replace(' ', '-')))"
      ],
      "execution_count": 0,
      "outputs": []
    },
    {
      "cell_type": "code",
      "metadata": {
        "id": "D3dEsVwPz2ia",
        "colab_type": "code",
        "colab": {}
      },
      "source": [
        "os.mkdir(\"/tmp/fruits\")\n",
        "os.mkdir(\"/tmp/fruits/train\")\n",
        "os.mkdir(\"/tmp/fruits/validate\")"
      ],
      "execution_count": 0,
      "outputs": []
    },
    {
      "cell_type": "code",
      "metadata": {
        "id": "_k-RN3iA0lRZ",
        "colab_type": "code",
        "colab": {}
      },
      "source": [
        "classes=[str(x) for x in os.listdir(\"/tmp/fruits-360_dataset/fruits-360/Training/\")]\n",
        "sets=[\"train\", \"validate\"]\n",
        "p=\"/tmp/fruits/\"\n",
        "for s in sets:\n",
        "  for c in classes:\n",
        "    os.mkdir(str(p)+str(s)+\"/\"+str(c))"
      ],
      "execution_count": 0,
      "outputs": []
    },
    {
      "cell_type": "code",
      "metadata": {
        "id": "J2gJBaCvzakC",
        "colab_type": "code",
        "colab": {}
      },
      "source": [
        "def split_data(SOURCE, TRAINING, TESTING, SPLIT_SIZE):\n",
        "    files = []\n",
        "    for filename in os.listdir(SOURCE):\n",
        "        file = SOURCE + filename\n",
        "        if os.path.getsize(file) > 0:\n",
        "            files.append(filename)\n",
        "        else:\n",
        "            print(filename + \" is zero length, so ignoring.\")\n",
        "\n",
        "    training_length = int(len(files) * SPLIT_SIZE)\n",
        "    testing_length = int(len(files) - training_length)\n",
        "    shuffled_set = random.sample(files, len(files))\n",
        "    training_set = shuffled_set[0:training_length]\n",
        "    testing_set = shuffled_set[:testing_length]\n",
        "\n",
        "    for filename in training_set:\n",
        "        this_file = SOURCE + filename\n",
        "        destination = TRAINING + filename\n",
        "        copyfile(this_file, destination)\n",
        "\n",
        "    for filename in testing_set:\n",
        "        this_file = SOURCE + filename\n",
        "        destination = TESTING + filename\n",
        "        copyfile(this_file, destination)\n",
        "\n",
        "\n",
        "\n",
        "\n"
      ],
      "execution_count": 0,
      "outputs": []
    },
    {
      "cell_type": "code",
      "metadata": {
        "id": "NsCc0tXt3fi8",
        "colab_type": "code",
        "outputId": "57458836-755a-40de-99f7-7de7727193db",
        "colab": {
          "base_uri": "https://localhost:8080/",
          "height": 1000
        }
      },
      "source": [
        "t=\"/tmp/fruits/train/\"\n",
        "v=\"/tmp/fruits/validate/\"\n",
        "src=\"/tmp/fruits-360_dataset/fruits-360/Training/\"\n",
        "\n",
        "\n",
        "split_size = .8\n",
        "\n",
        "\n",
        "for c in classes:\n",
        "  SOURCE=src+c+\"/\"\n",
        "  TRAIN=t+c+\"/\"\n",
        "  VALIDATE=v+c+\"/\"\n",
        "  print(SOURCE,TRAIN,VALIDATE)"
      ],
      "execution_count": 0,
      "outputs": [
        {
          "output_type": "stream",
          "text": [
            "/tmp/fruits-360_dataset/fruits-360/Training/Cherry-1/ /tmp/fruits/train/Cherry-1/ /tmp/fruits/validate/Cherry-1/\n",
            "/tmp/fruits-360_dataset/fruits-360/Training/Pomelo-Sweetie/ /tmp/fruits/train/Pomelo-Sweetie/ /tmp/fruits/validate/Pomelo-Sweetie/\n",
            "/tmp/fruits-360_dataset/fruits-360/Training/Apple-Red-2/ /tmp/fruits/train/Apple-Red-2/ /tmp/fruits/validate/Apple-Red-2/\n",
            "/tmp/fruits-360_dataset/fruits-360/Training/Hazelnut/ /tmp/fruits/train/Hazelnut/ /tmp/fruits/validate/Hazelnut/\n",
            "/tmp/fruits-360_dataset/fruits-360/Training/Eggplant/ /tmp/fruits/train/Eggplant/ /tmp/fruits/validate/Eggplant/\n",
            "/tmp/fruits-360_dataset/fruits-360/Training/Grape-White-3/ /tmp/fruits/train/Grape-White-3/ /tmp/fruits/validate/Grape-White-3/\n",
            "/tmp/fruits-360_dataset/fruits-360/Training/Apricot/ /tmp/fruits/train/Apricot/ /tmp/fruits/validate/Apricot/\n",
            "/tmp/fruits-360_dataset/fruits-360/Training/Grape-White/ /tmp/fruits/train/Grape-White/ /tmp/fruits/validate/Grape-White/\n",
            "/tmp/fruits-360_dataset/fruits-360/Training/Apple-Crimson-Snow/ /tmp/fruits/train/Apple-Crimson-Snow/ /tmp/fruits/validate/Apple-Crimson-Snow/\n",
            "/tmp/fruits-360_dataset/fruits-360/Training/Pepper-Yellow/ /tmp/fruits/train/Pepper-Yellow/ /tmp/fruits/validate/Pepper-Yellow/\n",
            "/tmp/fruits-360_dataset/fruits-360/Training/Grape-White-4/ /tmp/fruits/train/Grape-White-4/ /tmp/fruits/validate/Grape-White-4/\n",
            "/tmp/fruits-360_dataset/fruits-360/Training/Strawberry/ /tmp/fruits/train/Strawberry/ /tmp/fruits/validate/Strawberry/\n",
            "/tmp/fruits-360_dataset/fruits-360/Training/Pear-Red/ /tmp/fruits/train/Pear-Red/ /tmp/fruits/validate/Pear-Red/\n",
            "/tmp/fruits-360_dataset/fruits-360/Training/Mango/ /tmp/fruits/train/Mango/ /tmp/fruits/validate/Mango/\n",
            "/tmp/fruits-360_dataset/fruits-360/Training/Carambula/ /tmp/fruits/train/Carambula/ /tmp/fruits/validate/Carambula/\n",
            "/tmp/fruits-360_dataset/fruits-360/Training/Potato-Sweet/ /tmp/fruits/train/Potato-Sweet/ /tmp/fruits/validate/Potato-Sweet/\n",
            "/tmp/fruits-360_dataset/fruits-360/Training/Pear-Williams/ /tmp/fruits/train/Pear-Williams/ /tmp/fruits/validate/Pear-Williams/\n",
            "/tmp/fruits-360_dataset/fruits-360/Training/Pitahaya-Red/ /tmp/fruits/train/Pitahaya-Red/ /tmp/fruits/validate/Pitahaya-Red/\n",
            "/tmp/fruits-360_dataset/fruits-360/Training/Plum/ /tmp/fruits/train/Plum/ /tmp/fruits/validate/Plum/\n",
            "/tmp/fruits-360_dataset/fruits-360/Training/Pear-Kaiser/ /tmp/fruits/train/Pear-Kaiser/ /tmp/fruits/validate/Pear-Kaiser/\n",
            "/tmp/fruits-360_dataset/fruits-360/Training/Pineapple/ /tmp/fruits/train/Pineapple/ /tmp/fruits/validate/Pineapple/\n",
            "/tmp/fruits-360_dataset/fruits-360/Training/Blueberry/ /tmp/fruits/train/Blueberry/ /tmp/fruits/validate/Blueberry/\n",
            "/tmp/fruits-360_dataset/fruits-360/Training/Banana-Red/ /tmp/fruits/train/Banana-Red/ /tmp/fruits/validate/Banana-Red/\n",
            "/tmp/fruits-360_dataset/fruits-360/Training/Banana-Lady-Finger/ /tmp/fruits/train/Banana-Lady-Finger/ /tmp/fruits/validate/Banana-Lady-Finger/\n",
            "/tmp/fruits-360_dataset/fruits-360/Training/Mulberry/ /tmp/fruits/train/Mulberry/ /tmp/fruits/validate/Mulberry/\n",
            "/tmp/fruits-360_dataset/fruits-360/Training/Raspberry/ /tmp/fruits/train/Raspberry/ /tmp/fruits/validate/Raspberry/\n",
            "/tmp/fruits-360_dataset/fruits-360/Training/Grapefruit-Pink/ /tmp/fruits/train/Grapefruit-Pink/ /tmp/fruits/validate/Grapefruit-Pink/\n",
            "/tmp/fruits-360_dataset/fruits-360/Training/Tomato-Yellow/ /tmp/fruits/train/Tomato-Yellow/ /tmp/fruits/validate/Tomato-Yellow/\n",
            "/tmp/fruits-360_dataset/fruits-360/Training/Quince/ /tmp/fruits/train/Quince/ /tmp/fruits/validate/Quince/\n",
            "/tmp/fruits-360_dataset/fruits-360/Training/Salak/ /tmp/fruits/train/Salak/ /tmp/fruits/validate/Salak/\n",
            "/tmp/fruits-360_dataset/fruits-360/Training/Onion-White/ /tmp/fruits/train/Onion-White/ /tmp/fruits/validate/Onion-White/\n",
            "/tmp/fruits-360_dataset/fruits-360/Training/Pear-Forelle/ /tmp/fruits/train/Pear-Forelle/ /tmp/fruits/validate/Pear-Forelle/\n",
            "/tmp/fruits-360_dataset/fruits-360/Training/Mangostan/ /tmp/fruits/train/Mangostan/ /tmp/fruits/validate/Mangostan/\n",
            "/tmp/fruits-360_dataset/fruits-360/Training/Pepper-Green/ /tmp/fruits/train/Pepper-Green/ /tmp/fruits/validate/Pepper-Green/\n",
            "/tmp/fruits-360_dataset/fruits-360/Training/Cocos/ /tmp/fruits/train/Cocos/ /tmp/fruits/validate/Cocos/\n",
            "/tmp/fruits-360_dataset/fruits-360/Training/Physalis/ /tmp/fruits/train/Physalis/ /tmp/fruits/validate/Physalis/\n",
            "/tmp/fruits-360_dataset/fruits-360/Training/Pear/ /tmp/fruits/train/Pear/ /tmp/fruits/validate/Pear/\n",
            "/tmp/fruits-360_dataset/fruits-360/Training/Onion-Red/ /tmp/fruits/train/Onion-Red/ /tmp/fruits/validate/Onion-Red/\n",
            "/tmp/fruits-360_dataset/fruits-360/Training/Nectarine/ /tmp/fruits/train/Nectarine/ /tmp/fruits/validate/Nectarine/\n",
            "/tmp/fruits-360_dataset/fruits-360/Training/Limes/ /tmp/fruits/train/Limes/ /tmp/fruits/validate/Limes/\n",
            "/tmp/fruits-360_dataset/fruits-360/Training/Tomato-3/ /tmp/fruits/train/Tomato-3/ /tmp/fruits/validate/Tomato-3/\n",
            "/tmp/fruits-360_dataset/fruits-360/Training/Grapefruit-White/ /tmp/fruits/train/Grapefruit-White/ /tmp/fruits/validate/Grapefruit-White/\n",
            "/tmp/fruits-360_dataset/fruits-360/Training/Cantaloupe-2/ /tmp/fruits/train/Cantaloupe-2/ /tmp/fruits/validate/Cantaloupe-2/\n",
            "/tmp/fruits-360_dataset/fruits-360/Training/Onion-Red-Peeled/ /tmp/fruits/train/Onion-Red-Peeled/ /tmp/fruits/validate/Onion-Red-Peeled/\n",
            "/tmp/fruits-360_dataset/fruits-360/Training/Walnut/ /tmp/fruits/train/Walnut/ /tmp/fruits/validate/Walnut/\n",
            "/tmp/fruits-360_dataset/fruits-360/Training/Kumquats/ /tmp/fruits/train/Kumquats/ /tmp/fruits/validate/Kumquats/\n",
            "/tmp/fruits-360_dataset/fruits-360/Training/Apple-Red-Yellow-1/ /tmp/fruits/train/Apple-Red-Yellow-1/ /tmp/fruits/validate/Apple-Red-Yellow-1/\n",
            "/tmp/fruits-360_dataset/fruits-360/Training/Guava/ /tmp/fruits/train/Guava/ /tmp/fruits/validate/Guava/\n",
            "/tmp/fruits-360_dataset/fruits-360/Training/Potato-Red/ /tmp/fruits/train/Potato-Red/ /tmp/fruits/validate/Potato-Red/\n",
            "/tmp/fruits-360_dataset/fruits-360/Training/Grape-White-2/ /tmp/fruits/train/Grape-White-2/ /tmp/fruits/validate/Grape-White-2/\n",
            "/tmp/fruits-360_dataset/fruits-360/Training/Peach-2/ /tmp/fruits/train/Peach-2/ /tmp/fruits/validate/Peach-2/\n",
            "/tmp/fruits-360_dataset/fruits-360/Training/Physalis-with-Husk/ /tmp/fruits/train/Physalis-with-Husk/ /tmp/fruits/validate/Physalis-with-Husk/\n",
            "/tmp/fruits-360_dataset/fruits-360/Training/Melon-Piel-de-Sapo/ /tmp/fruits/train/Melon-Piel-de-Sapo/ /tmp/fruits/validate/Melon-Piel-de-Sapo/\n",
            "/tmp/fruits-360_dataset/fruits-360/Training/Rambutan/ /tmp/fruits/train/Rambutan/ /tmp/fruits/validate/Rambutan/\n",
            "/tmp/fruits-360_dataset/fruits-360/Training/Apple-Red-Delicious/ /tmp/fruits/train/Apple-Red-Delicious/ /tmp/fruits/validate/Apple-Red-Delicious/\n",
            "/tmp/fruits-360_dataset/fruits-360/Training/Tamarillo/ /tmp/fruits/train/Tamarillo/ /tmp/fruits/validate/Tamarillo/\n",
            "/tmp/fruits-360_dataset/fruits-360/Training/Tangelo/ /tmp/fruits/train/Tangelo/ /tmp/fruits/validate/Tangelo/\n",
            "/tmp/fruits-360_dataset/fruits-360/Training/Peach/ /tmp/fruits/train/Peach/ /tmp/fruits/validate/Peach/\n",
            "/tmp/fruits-360_dataset/fruits-360/Training/Plum-3/ /tmp/fruits/train/Plum-3/ /tmp/fruits/validate/Plum-3/\n",
            "/tmp/fruits-360_dataset/fruits-360/Training/Tomato-Maroon/ /tmp/fruits/train/Tomato-Maroon/ /tmp/fruits/validate/Tomato-Maroon/\n",
            "/tmp/fruits-360_dataset/fruits-360/Training/Tomato-2/ /tmp/fruits/train/Tomato-2/ /tmp/fruits/validate/Tomato-2/\n",
            "/tmp/fruits-360_dataset/fruits-360/Training/Grape-Pink/ /tmp/fruits/train/Grape-Pink/ /tmp/fruits/validate/Grape-Pink/\n",
            "/tmp/fruits-360_dataset/fruits-360/Training/Cantaloupe-1/ /tmp/fruits/train/Cantaloupe-1/ /tmp/fruits/validate/Cantaloupe-1/\n",
            "/tmp/fruits-360_dataset/fruits-360/Training/Apple-Golden-2/ /tmp/fruits/train/Apple-Golden-2/ /tmp/fruits/validate/Apple-Golden-2/\n",
            "/tmp/fruits-360_dataset/fruits-360/Training/Kohlrabi/ /tmp/fruits/train/Kohlrabi/ /tmp/fruits/validate/Kohlrabi/\n",
            "/tmp/fruits-360_dataset/fruits-360/Training/Orange/ /tmp/fruits/train/Orange/ /tmp/fruits/validate/Orange/\n",
            "/tmp/fruits-360_dataset/fruits-360/Training/Banana/ /tmp/fruits/train/Banana/ /tmp/fruits/validate/Banana/\n",
            "/tmp/fruits-360_dataset/fruits-360/Training/Pineapple-Mini/ /tmp/fruits/train/Pineapple-Mini/ /tmp/fruits/validate/Pineapple-Mini/\n",
            "/tmp/fruits-360_dataset/fruits-360/Training/Cactus-fruit/ /tmp/fruits/train/Cactus-fruit/ /tmp/fruits/validate/Cactus-fruit/\n",
            "/tmp/fruits-360_dataset/fruits-360/Training/Kaki/ /tmp/fruits/train/Kaki/ /tmp/fruits/validate/Kaki/\n",
            "/tmp/fruits-360_dataset/fruits-360/Training/Lemon-Meyer/ /tmp/fruits/train/Lemon-Meyer/ /tmp/fruits/validate/Lemon-Meyer/\n",
            "/tmp/fruits-360_dataset/fruits-360/Training/Pear-Abate/ /tmp/fruits/train/Pear-Abate/ /tmp/fruits/validate/Pear-Abate/\n",
            "/tmp/fruits-360_dataset/fruits-360/Training/Beetroot/ /tmp/fruits/train/Beetroot/ /tmp/fruits/validate/Beetroot/\n",
            "/tmp/fruits-360_dataset/fruits-360/Training/Passion-Fruit/ /tmp/fruits/train/Passion-Fruit/ /tmp/fruits/validate/Passion-Fruit/\n",
            "/tmp/fruits-360_dataset/fruits-360/Training/Redcurrant/ /tmp/fruits/train/Redcurrant/ /tmp/fruits/validate/Redcurrant/\n",
            "/tmp/fruits-360_dataset/fruits-360/Training/Cauliflower/ /tmp/fruits/train/Cauliflower/ /tmp/fruits/validate/Cauliflower/\n",
            "/tmp/fruits-360_dataset/fruits-360/Training/Tomato-1/ /tmp/fruits/train/Tomato-1/ /tmp/fruits/validate/Tomato-1/\n",
            "/tmp/fruits-360_dataset/fruits-360/Training/Apple-Golden-1/ /tmp/fruits/train/Apple-Golden-1/ /tmp/fruits/validate/Apple-Golden-1/\n",
            "/tmp/fruits-360_dataset/fruits-360/Training/Chestnut/ /tmp/fruits/train/Chestnut/ /tmp/fruits/validate/Chestnut/\n",
            "/tmp/fruits-360_dataset/fruits-360/Training/Clementine/ /tmp/fruits/train/Clementine/ /tmp/fruits/validate/Clementine/\n",
            "/tmp/fruits-360_dataset/fruits-360/Training/Maracuja/ /tmp/fruits/train/Maracuja/ /tmp/fruits/validate/Maracuja/\n",
            "/tmp/fruits-360_dataset/fruits-360/Training/Strawberry-Wedge/ /tmp/fruits/train/Strawberry-Wedge/ /tmp/fruits/validate/Strawberry-Wedge/\n",
            "/tmp/fruits-360_dataset/fruits-360/Training/Apple-Red-1/ /tmp/fruits/train/Apple-Red-1/ /tmp/fruits/validate/Apple-Red-1/\n",
            "/tmp/fruits-360_dataset/fruits-360/Training/Apple-Golden-3/ /tmp/fruits/train/Apple-Golden-3/ /tmp/fruits/validate/Apple-Golden-3/\n",
            "/tmp/fruits-360_dataset/fruits-360/Training/Lychee/ /tmp/fruits/train/Lychee/ /tmp/fruits/validate/Lychee/\n",
            "/tmp/fruits-360_dataset/fruits-360/Training/Nut-Forest/ /tmp/fruits/train/Nut-Forest/ /tmp/fruits/validate/Nut-Forest/\n",
            "/tmp/fruits-360_dataset/fruits-360/Training/Papaya/ /tmp/fruits/train/Papaya/ /tmp/fruits/validate/Papaya/\n",
            "/tmp/fruits-360_dataset/fruits-360/Training/Apple-Pink-Lady/ /tmp/fruits/train/Apple-Pink-Lady/ /tmp/fruits/validate/Apple-Pink-Lady/\n",
            "/tmp/fruits-360_dataset/fruits-360/Training/Apple-Braeburn/ /tmp/fruits/train/Apple-Braeburn/ /tmp/fruits/validate/Apple-Braeburn/\n",
            "/tmp/fruits-360_dataset/fruits-360/Training/Cherry-Wax-Black/ /tmp/fruits/train/Cherry-Wax-Black/ /tmp/fruits/validate/Cherry-Wax-Black/\n",
            "/tmp/fruits-360_dataset/fruits-360/Training/Cherry-2/ /tmp/fruits/train/Cherry-2/ /tmp/fruits/validate/Cherry-2/\n",
            "/tmp/fruits-360_dataset/fruits-360/Training/Pepper-Red/ /tmp/fruits/train/Pepper-Red/ /tmp/fruits/validate/Pepper-Red/\n",
            "/tmp/fruits-360_dataset/fruits-360/Training/Potato-Red-Washed/ /tmp/fruits/train/Potato-Red-Washed/ /tmp/fruits/validate/Potato-Red-Washed/\n",
            "/tmp/fruits-360_dataset/fruits-360/Training/Lemon/ /tmp/fruits/train/Lemon/ /tmp/fruits/validate/Lemon/\n",
            "/tmp/fruits-360_dataset/fruits-360/Training/Avocado-ripe/ /tmp/fruits/train/Avocado-ripe/ /tmp/fruits/validate/Avocado-ripe/\n",
            "/tmp/fruits-360_dataset/fruits-360/Training/Nectarine-Flat/ /tmp/fruits/train/Nectarine-Flat/ /tmp/fruits/validate/Nectarine-Flat/\n",
            "/tmp/fruits-360_dataset/fruits-360/Training/Potato-White/ /tmp/fruits/train/Potato-White/ /tmp/fruits/validate/Potato-White/\n",
            "/tmp/fruits-360_dataset/fruits-360/Training/Mango-Red/ /tmp/fruits/train/Mango-Red/ /tmp/fruits/validate/Mango-Red/\n",
            "/tmp/fruits-360_dataset/fruits-360/Training/Huckleberry/ /tmp/fruits/train/Huckleberry/ /tmp/fruits/validate/Huckleberry/\n",
            "/tmp/fruits-360_dataset/fruits-360/Training/Grape-Blue/ /tmp/fruits/train/Grape-Blue/ /tmp/fruits/validate/Grape-Blue/\n",
            "/tmp/fruits-360_dataset/fruits-360/Training/Pepino/ /tmp/fruits/train/Pepino/ /tmp/fruits/validate/Pepino/\n",
            "/tmp/fruits-360_dataset/fruits-360/Training/Cherry-Rainier/ /tmp/fruits/train/Cherry-Rainier/ /tmp/fruits/validate/Cherry-Rainier/\n",
            "/tmp/fruits-360_dataset/fruits-360/Training/Mandarine/ /tmp/fruits/train/Mandarine/ /tmp/fruits/validate/Mandarine/\n",
            "/tmp/fruits-360_dataset/fruits-360/Training/Avocado/ /tmp/fruits/train/Avocado/ /tmp/fruits/validate/Avocado/\n",
            "/tmp/fruits-360_dataset/fruits-360/Training/Cherry-Wax-Yellow/ /tmp/fruits/train/Cherry-Wax-Yellow/ /tmp/fruits/validate/Cherry-Wax-Yellow/\n",
            "/tmp/fruits-360_dataset/fruits-360/Training/Kiwi/ /tmp/fruits/train/Kiwi/ /tmp/fruits/validate/Kiwi/\n",
            "/tmp/fruits-360_dataset/fruits-360/Training/Nut-Pecan/ /tmp/fruits/train/Nut-Pecan/ /tmp/fruits/validate/Nut-Pecan/\n",
            "/tmp/fruits-360_dataset/fruits-360/Training/Plum-2/ /tmp/fruits/train/Plum-2/ /tmp/fruits/validate/Plum-2/\n",
            "/tmp/fruits-360_dataset/fruits-360/Training/Apple-Red-3/ /tmp/fruits/train/Apple-Red-3/ /tmp/fruits/validate/Apple-Red-3/\n",
            "/tmp/fruits-360_dataset/fruits-360/Training/Apple-Granny-Smith/ /tmp/fruits/train/Apple-Granny-Smith/ /tmp/fruits/validate/Apple-Granny-Smith/\n",
            "/tmp/fruits-360_dataset/fruits-360/Training/Cherry-Wax-Red/ /tmp/fruits/train/Cherry-Wax-Red/ /tmp/fruits/validate/Cherry-Wax-Red/\n",
            "/tmp/fruits-360_dataset/fruits-360/Training/Apple-Red-Yellow-2/ /tmp/fruits/train/Apple-Red-Yellow-2/ /tmp/fruits/validate/Apple-Red-Yellow-2/\n",
            "/tmp/fruits-360_dataset/fruits-360/Training/Dates/ /tmp/fruits/train/Dates/ /tmp/fruits/validate/Dates/\n",
            "/tmp/fruits-360_dataset/fruits-360/Training/Granadilla/ /tmp/fruits/train/Granadilla/ /tmp/fruits/validate/Granadilla/\n",
            "/tmp/fruits-360_dataset/fruits-360/Training/Peach-Flat/ /tmp/fruits/train/Peach-Flat/ /tmp/fruits/validate/Peach-Flat/\n",
            "/tmp/fruits-360_dataset/fruits-360/Training/Pomegranate/ /tmp/fruits/train/Pomegranate/ /tmp/fruits/validate/Pomegranate/\n",
            "/tmp/fruits-360_dataset/fruits-360/Training/Pear-Monster/ /tmp/fruits/train/Pear-Monster/ /tmp/fruits/validate/Pear-Monster/\n",
            "/tmp/fruits-360_dataset/fruits-360/Training/Tomato-Cherry-Red/ /tmp/fruits/train/Tomato-Cherry-Red/ /tmp/fruits/validate/Tomato-Cherry-Red/\n",
            "/tmp/fruits-360_dataset/fruits-360/Training/Tomato-4/ /tmp/fruits/train/Tomato-4/ /tmp/fruits/validate/Tomato-4/\n",
            "/tmp/fruits-360_dataset/fruits-360/Training/Ginger-Root/ /tmp/fruits/train/Ginger-Root/ /tmp/fruits/validate/Ginger-Root/\n"
          ],
          "name": "stdout"
        }
      ]
    },
    {
      "cell_type": "code",
      "metadata": {
        "id": "qHF52PT_2YVl",
        "colab_type": "code",
        "colab": {}
      },
      "source": [
        "t=\"/tmp/fruits/train/\"\n",
        "v=\"/tmp/fruits/validate/\"\n",
        "src=\"/tmp/fruits-360_dataset/fruits-360/Training/\"\n",
        "\n",
        "\n",
        "split_size = .8\n",
        "\n",
        "\n",
        "for c in classes:\n",
        "  SOURCE=src+c+\"/\"\n",
        "  TRAIN=t+c+\"/\"\n",
        "  VALIDATE=v+c+\"/\"\n",
        "  split_data(SOURCE, TRAIN, VALIDATE, split_size)\n",
        "\n",
        "\n",
        "\n",
        "\n",
        "\n",
        "\n"
      ],
      "execution_count": 0,
      "outputs": []
    },
    {
      "cell_type": "code",
      "metadata": {
        "id": "HSuZoXNi4Jqx",
        "colab_type": "code",
        "outputId": "b5803b18-3604-4eb4-b5f3-766c0e8c98b2",
        "colab": {
          "base_uri": "https://localhost:8080/",
          "height": 50
        }
      },
      "source": [
        "TRAINING_DIR = \"/tmp/fruits/train/\"\n",
        "# Experiment with your own parameters here to really try to drive it to 99.9% accuracy or better\n",
        "train_datagen = ImageDataGenerator(rescale=1./255,\n",
        "      rotation_range=40,\n",
        "      width_shift_range=0.2,\n",
        "      height_shift_range=0.2,\n",
        "      shear_range=0.2,\n",
        "      zoom_range=0.2,\n",
        "      horizontal_flip=True,\n",
        "      fill_mode='nearest')\n",
        "train_generator = train_datagen.flow_from_directory(TRAINING_DIR,\n",
        "                                                    class_mode='categorical',\n",
        "                                                    target_size=(100, 100))\n",
        "\n",
        "VALIDATION_DIR = \"/tmp/fruits/validate/\"\n",
        "# Experiment with your own parameters here to really try to drive it to 99.9% accuracy or better\n",
        "validation_datagen = ImageDataGenerator(rescale=1./255,\n",
        "      rotation_range=40,\n",
        "      width_shift_range=0.2,\n",
        "      height_shift_range=0.2,\n",
        "      shear_range=0.2,\n",
        "      zoom_range=0.2,\n",
        "      horizontal_flip=True,\n",
        "      fill_mode='nearest')\n",
        "validation_generator = validation_datagen.flow_from_directory(VALIDATION_DIR,\n",
        "                                                              class_mode='categorical',\n",
        "                                                              target_size=(100, 100))"
      ],
      "execution_count": 0,
      "outputs": [
        {
          "output_type": "stream",
          "text": [
            "Found 48360 images belonging to 120 classes.\n",
            "Found 12138 images belonging to 120 classes.\n"
          ],
          "name": "stdout"
        }
      ]
    },
    {
      "cell_type": "code",
      "metadata": {
        "id": "-2GwsQ9w45TS",
        "colab_type": "code",
        "outputId": "5555c78c-4959-4d0d-b817-98f8d83b0be2",
        "colab": {
          "base_uri": "https://localhost:8080/",
          "height": 33
        }
      },
      "source": [
        "print(len(classes))"
      ],
      "execution_count": 0,
      "outputs": [
        {
          "output_type": "stream",
          "text": [
            "120\n"
          ],
          "name": "stdout"
        }
      ]
    },
    {
      "cell_type": "code",
      "metadata": {
        "id": "6ZR4nzgu4mqw",
        "colab_type": "code",
        "outputId": "a7c6f030-df13-4a5c-bdba-94e8b4882ef5",
        "colab": {
          "base_uri": "https://localhost:8080/",
          "height": 50
        }
      },
      "source": [
        "history = model.fit_generator(train_generator,\n",
        "                              epochs=25,\n",
        "                              verbose=1,\n",
        "                              validation_data=validation_generator)"
      ],
      "execution_count": 0,
      "outputs": [
        {
          "output_type": "stream",
          "text": [
            "Epoch 1/25\n",
            "  12703/Unknown - 40176s 3s/step - loss: 0.4026 - accuracy: 0.8869"
          ],
          "name": "stdout"
        }
      ]
    }
  ]
}