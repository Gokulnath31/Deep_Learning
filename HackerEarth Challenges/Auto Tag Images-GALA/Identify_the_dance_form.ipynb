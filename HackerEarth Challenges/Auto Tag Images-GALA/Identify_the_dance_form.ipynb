{
  "nbformat": 4,
  "nbformat_minor": 0,
  "metadata": {
    "colab": {
      "name": "Identify the dance form.ipynb",
      "provenance": [],
      "collapsed_sections": []
    },
    "kernelspec": {
      "name": "python3",
      "display_name": "Python 3"
    },
    "widgets": {
      "application/vnd.jupyter.widget-state+json": {
        "1c37962901e54a019bce8f6b36c29624": {
          "model_module": "@jupyter-widgets/controls",
          "model_name": "HBoxModel",
          "state": {
            "_view_name": "HBoxView",
            "_dom_classes": [],
            "_model_name": "HBoxModel",
            "_view_module": "@jupyter-widgets/controls",
            "_model_module_version": "1.5.0",
            "_view_count": null,
            "_view_module_version": "1.5.0",
            "box_style": "",
            "layout": "IPY_MODEL_9f7711400d3241fe96a677b023b8db75",
            "_model_module": "@jupyter-widgets/controls",
            "children": [
              "IPY_MODEL_7dd86278b7024ccaa0a5f7ec4780f377",
              "IPY_MODEL_ceef3c15f5114128b079200c6aec9c07"
            ]
          }
        },
        "9f7711400d3241fe96a677b023b8db75": {
          "model_module": "@jupyter-widgets/base",
          "model_name": "LayoutModel",
          "state": {
            "_view_name": "LayoutView",
            "grid_template_rows": null,
            "right": null,
            "justify_content": null,
            "_view_module": "@jupyter-widgets/base",
            "overflow": null,
            "_model_module_version": "1.2.0",
            "_view_count": null,
            "flex_flow": null,
            "width": null,
            "min_width": null,
            "border": null,
            "align_items": null,
            "bottom": null,
            "_model_module": "@jupyter-widgets/base",
            "top": null,
            "grid_column": null,
            "overflow_y": null,
            "overflow_x": null,
            "grid_auto_flow": null,
            "grid_area": null,
            "grid_template_columns": null,
            "flex": null,
            "_model_name": "LayoutModel",
            "justify_items": null,
            "grid_row": null,
            "max_height": null,
            "align_content": null,
            "visibility": null,
            "align_self": null,
            "height": null,
            "min_height": null,
            "padding": null,
            "grid_auto_rows": null,
            "grid_gap": null,
            "max_width": null,
            "order": null,
            "_view_module_version": "1.2.0",
            "grid_template_areas": null,
            "object_position": null,
            "object_fit": null,
            "grid_auto_columns": null,
            "margin": null,
            "display": null,
            "left": null
          }
        },
        "7dd86278b7024ccaa0a5f7ec4780f377": {
          "model_module": "@jupyter-widgets/controls",
          "model_name": "FloatProgressModel",
          "state": {
            "_view_name": "ProgressView",
            "style": "IPY_MODEL_cc3add0129674834802f794322a15039",
            "_dom_classes": [],
            "description": "100%",
            "_model_name": "FloatProgressModel",
            "bar_style": "success",
            "max": 5017600,
            "_view_module": "@jupyter-widgets/controls",
            "_model_module_version": "1.5.0",
            "value": 5017600,
            "_view_count": null,
            "_view_module_version": "1.5.0",
            "orientation": "horizontal",
            "min": 0,
            "description_tooltip": null,
            "_model_module": "@jupyter-widgets/controls",
            "layout": "IPY_MODEL_b07412ae95a94f15a19e90b46eeb9379"
          }
        },
        "ceef3c15f5114128b079200c6aec9c07": {
          "model_module": "@jupyter-widgets/controls",
          "model_name": "HTMLModel",
          "state": {
            "_view_name": "HTMLView",
            "style": "IPY_MODEL_f307ec515a2a4eb6843d9ec6b3f95f91",
            "_dom_classes": [],
            "description": "",
            "_model_name": "HTMLModel",
            "placeholder": "​",
            "_view_module": "@jupyter-widgets/controls",
            "_model_module_version": "1.5.0",
            "value": " 4.79M/4.79M [00:00&lt;00:00, 23.3MB/s]",
            "_view_count": null,
            "_view_module_version": "1.5.0",
            "description_tooltip": null,
            "_model_module": "@jupyter-widgets/controls",
            "layout": "IPY_MODEL_73258e1b94a540bb8971f885ab78e297"
          }
        },
        "cc3add0129674834802f794322a15039": {
          "model_module": "@jupyter-widgets/controls",
          "model_name": "ProgressStyleModel",
          "state": {
            "_view_name": "StyleView",
            "_model_name": "ProgressStyleModel",
            "description_width": "initial",
            "_view_module": "@jupyter-widgets/base",
            "_model_module_version": "1.5.0",
            "_view_count": null,
            "_view_module_version": "1.2.0",
            "bar_color": null,
            "_model_module": "@jupyter-widgets/controls"
          }
        },
        "b07412ae95a94f15a19e90b46eeb9379": {
          "model_module": "@jupyter-widgets/base",
          "model_name": "LayoutModel",
          "state": {
            "_view_name": "LayoutView",
            "grid_template_rows": null,
            "right": null,
            "justify_content": null,
            "_view_module": "@jupyter-widgets/base",
            "overflow": null,
            "_model_module_version": "1.2.0",
            "_view_count": null,
            "flex_flow": null,
            "width": null,
            "min_width": null,
            "border": null,
            "align_items": null,
            "bottom": null,
            "_model_module": "@jupyter-widgets/base",
            "top": null,
            "grid_column": null,
            "overflow_y": null,
            "overflow_x": null,
            "grid_auto_flow": null,
            "grid_area": null,
            "grid_template_columns": null,
            "flex": null,
            "_model_name": "LayoutModel",
            "justify_items": null,
            "grid_row": null,
            "max_height": null,
            "align_content": null,
            "visibility": null,
            "align_self": null,
            "height": null,
            "min_height": null,
            "padding": null,
            "grid_auto_rows": null,
            "grid_gap": null,
            "max_width": null,
            "order": null,
            "_view_module_version": "1.2.0",
            "grid_template_areas": null,
            "object_position": null,
            "object_fit": null,
            "grid_auto_columns": null,
            "margin": null,
            "display": null,
            "left": null
          }
        },
        "f307ec515a2a4eb6843d9ec6b3f95f91": {
          "model_module": "@jupyter-widgets/controls",
          "model_name": "DescriptionStyleModel",
          "state": {
            "_view_name": "StyleView",
            "_model_name": "DescriptionStyleModel",
            "description_width": "",
            "_view_module": "@jupyter-widgets/base",
            "_model_module_version": "1.5.0",
            "_view_count": null,
            "_view_module_version": "1.2.0",
            "_model_module": "@jupyter-widgets/controls"
          }
        },
        "73258e1b94a540bb8971f885ab78e297": {
          "model_module": "@jupyter-widgets/base",
          "model_name": "LayoutModel",
          "state": {
            "_view_name": "LayoutView",
            "grid_template_rows": null,
            "right": null,
            "justify_content": null,
            "_view_module": "@jupyter-widgets/base",
            "overflow": null,
            "_model_module_version": "1.2.0",
            "_view_count": null,
            "flex_flow": null,
            "width": null,
            "min_width": null,
            "border": null,
            "align_items": null,
            "bottom": null,
            "_model_module": "@jupyter-widgets/base",
            "top": null,
            "grid_column": null,
            "overflow_y": null,
            "overflow_x": null,
            "grid_auto_flow": null,
            "grid_area": null,
            "grid_template_columns": null,
            "flex": null,
            "_model_name": "LayoutModel",
            "justify_items": null,
            "grid_row": null,
            "max_height": null,
            "align_content": null,
            "visibility": null,
            "align_self": null,
            "height": null,
            "min_height": null,
            "padding": null,
            "grid_auto_rows": null,
            "grid_gap": null,
            "max_width": null,
            "order": null,
            "_view_module_version": "1.2.0",
            "grid_template_areas": null,
            "object_position": null,
            "object_fit": null,
            "grid_auto_columns": null,
            "margin": null,
            "display": null,
            "left": null
          }
        }
      }
    },
    "accelerator": "GPU"
  },
  "cells": [
    {
      "cell_type": "code",
      "metadata": {
        "id": "BmWp4tl7Kvi9",
        "colab_type": "code",
        "colab": {
          "base_uri": "https://localhost:8080/",
          "height": 125
        },
        "outputId": "35bdf088-9049-4ccf-efc6-443b3fbd4afe"
      },
      "source": [
        "from google.colab import drive\n",
        "drive.mount('/content/drive')"
      ],
      "execution_count": null,
      "outputs": [
        {
          "output_type": "stream",
          "text": [
            "Go to this URL in a browser: https://accounts.google.com/o/oauth2/auth?client_id=947318989803-6bn6qk8qdgf4n4g3pfee6491hc0brc4i.apps.googleusercontent.com&redirect_uri=urn%3aietf%3awg%3aoauth%3a2.0%3aoob&response_type=code&scope=email%20https%3a%2f%2fwww.googleapis.com%2fauth%2fdocs.test%20https%3a%2f%2fwww.googleapis.com%2fauth%2fdrive%20https%3a%2f%2fwww.googleapis.com%2fauth%2fdrive.photos.readonly%20https%3a%2f%2fwww.googleapis.com%2fauth%2fpeopleapi.readonly\n",
            "\n",
            "Enter your authorization code:\n",
            "··········\n",
            "Mounted at /content/drive\n"
          ],
          "name": "stdout"
        }
      ]
    },
    {
      "cell_type": "code",
      "metadata": {
        "id": "TlQeUS52hjEd",
        "colab_type": "code",
        "colab": {
          "base_uri": "https://localhost:8080/",
          "height": 1000
        },
        "outputId": "12446b12-c063-44fe-cfbd-082b161b025c"
      },
      "source": [
        "!unzip '/content/drive/My Drive/Dance.zip' -d /tmp/"
      ],
      "execution_count": null,
      "outputs": [
        {
          "output_type": "stream",
          "text": [
            "Archive:  /content/drive/My Drive/Dance.zip\n",
            "   creating: /tmp/dataset/\n",
            "   creating: /tmp/dataset/test/\n",
            "  inflating: /tmp/dataset/test/508.jpg  \n",
            "  inflating: /tmp/dataset/test/246.jpg  \n",
            "  inflating: /tmp/dataset/test/473.jpg  \n",
            "  inflating: /tmp/dataset/test/485.jpg  \n",
            "  inflating: /tmp/dataset/test/128.jpg  \n",
            "  inflating: /tmp/dataset/test/410.jpg  \n",
            "  inflating: /tmp/dataset/test/465.jpg  \n",
            "  inflating: /tmp/dataset/test/196.jpg  \n",
            "  inflating: /tmp/dataset/test/340.jpg  \n",
            "  inflating: /tmp/dataset/test/467.jpg  \n",
            "  inflating: /tmp/dataset/test/306.jpg  \n",
            "  inflating: /tmp/dataset/test/171.jpg  \n",
            "  inflating: /tmp/dataset/test/323.jpg  \n",
            "  inflating: /tmp/dataset/test/332.jpg  \n",
            "  inflating: /tmp/dataset/test/330.jpg  \n",
            "  inflating: /tmp/dataset/test/170.jpg  \n",
            "  inflating: /tmp/dataset/test/479.jpg  \n",
            "  inflating: /tmp/dataset/test/9.jpg  \n",
            "  inflating: /tmp/dataset/test/283.jpg  \n",
            "  inflating: /tmp/dataset/test/114.jpg  \n",
            "  inflating: /tmp/dataset/test/507.jpg  \n",
            "  inflating: /tmp/dataset/test/183.jpg  \n",
            "  inflating: /tmp/dataset/test/200.jpg  \n",
            "  inflating: /tmp/dataset/test/457.jpg  \n",
            "  inflating: /tmp/dataset/test/264.jpg  \n",
            "  inflating: /tmp/dataset/test/194.jpg  \n",
            "  inflating: /tmp/dataset/test/518.jpg  \n",
            "  inflating: /tmp/dataset/test/175.jpg  \n",
            "  inflating: /tmp/dataset/test/64.jpg  \n",
            "  inflating: /tmp/dataset/test/152.jpg  \n",
            "  inflating: /tmp/dataset/test/270.jpg  \n",
            "  inflating: /tmp/dataset/test/125.jpg  \n",
            "  inflating: /tmp/dataset/test/38.jpg  \n",
            "  inflating: /tmp/dataset/test/440.jpg  \n",
            "  inflating: /tmp/dataset/test/302.jpg  \n",
            "  inflating: /tmp/dataset/test/394.jpg  \n",
            "  inflating: /tmp/dataset/test/448.jpg  \n",
            "  inflating: /tmp/dataset/test/463.jpg  \n",
            "  inflating: /tmp/dataset/test/20.jpg  \n",
            "  inflating: /tmp/dataset/test/301.jpg  \n",
            "  inflating: /tmp/dataset/test/28.jpg  \n",
            "  inflating: /tmp/dataset/test/61.jpg  \n",
            "  inflating: /tmp/dataset/test/398.jpg  \n",
            "  inflating: /tmp/dataset/test/349.jpg  \n",
            "  inflating: /tmp/dataset/test/271.jpg  \n",
            "  inflating: /tmp/dataset/test/286.jpg  \n",
            "  inflating: /tmp/dataset/test/431.jpg  \n",
            "  inflating: /tmp/dataset/test/316.jpg  \n",
            "  inflating: /tmp/dataset/test/224.jpg  \n",
            "  inflating: /tmp/dataset/test/411.jpg  \n",
            "  inflating: /tmp/dataset/test/278.jpg  \n",
            "  inflating: /tmp/dataset/test/456.jpg  \n",
            "  inflating: /tmp/dataset/test/45.jpg  \n",
            "  inflating: /tmp/dataset/test/324.jpg  \n",
            "  inflating: /tmp/dataset/test/6.jpg  \n",
            "  inflating: /tmp/dataset/test/59.jpg  \n",
            "  inflating: /tmp/dataset/test/86.jpg  \n",
            "  inflating: /tmp/dataset/test/470.jpg  \n",
            "  inflating: /tmp/dataset/test/374.jpg  \n",
            "  inflating: /tmp/dataset/test/132.jpg  \n",
            "  inflating: /tmp/dataset/test/216.jpg  \n",
            "  inflating: /tmp/dataset/test/95.jpg  \n",
            "  inflating: /tmp/dataset/test/17.jpg  \n",
            "  inflating: /tmp/dataset/test/162.jpg  \n",
            "  inflating: /tmp/dataset/test/346.jpg  \n",
            "  inflating: /tmp/dataset/test/439.jpg  \n",
            "  inflating: /tmp/dataset/test/232.jpg  \n",
            "  inflating: /tmp/dataset/test/150.jpg  \n",
            "  inflating: /tmp/dataset/test/401.jpg  \n",
            "  inflating: /tmp/dataset/test/145.jpg  \n",
            "  inflating: /tmp/dataset/test/23.jpg  \n",
            "  inflating: /tmp/dataset/test/514.jpg  \n",
            "  inflating: /tmp/dataset/test/193.jpg  \n",
            "  inflating: /tmp/dataset/test/416.jpg  \n",
            "  inflating: /tmp/dataset/test/447.jpg  \n",
            "  inflating: /tmp/dataset/test/220.jpg  \n",
            "  inflating: /tmp/dataset/test/505.jpg  \n",
            "  inflating: /tmp/dataset/test/147.jpg  \n",
            "  inflating: /tmp/dataset/test/210.jpg  \n",
            "  inflating: /tmp/dataset/test/40.jpg  \n",
            "  inflating: /tmp/dataset/test/284.jpg  \n",
            "  inflating: /tmp/dataset/test/55.jpg  \n",
            "  inflating: /tmp/dataset/test/378.jpg  \n",
            "  inflating: /tmp/dataset/test/520.jpg  \n",
            "  inflating: /tmp/dataset/test/484.jpg  \n",
            "  inflating: /tmp/dataset/test/112.jpg  \n",
            "  inflating: /tmp/dataset/test/360.jpg  \n",
            "  inflating: /tmp/dataset/test/317.jpg  \n",
            "  inflating: /tmp/dataset/test/71.jpg  \n",
            "  inflating: /tmp/dataset/test/202.jpg  \n",
            "  inflating: /tmp/dataset/test/92.jpg  \n",
            "  inflating: /tmp/dataset/test/11.jpg  \n",
            "  inflating: /tmp/dataset/test/67.jpg  \n",
            "  inflating: /tmp/dataset/test/138.jpg  \n",
            "  inflating: /tmp/dataset/test/506.jpg  \n",
            "  inflating: /tmp/dataset/test/146.jpg  \n",
            "  inflating: /tmp/dataset/test/318.jpg  \n",
            "  inflating: /tmp/dataset/test/198.jpg  \n",
            "  inflating: /tmp/dataset/test/375.jpg  \n",
            "  inflating: /tmp/dataset/test/41.jpg  \n",
            "  inflating: /tmp/dataset/test/421.jpg  \n",
            "  inflating: /tmp/dataset/test/129.jpg  \n",
            "  inflating: /tmp/dataset/test/14.jpg  \n",
            "  inflating: /tmp/dataset/test/460.jpg  \n",
            "  inflating: /tmp/dataset/test/34.jpg  \n",
            "  inflating: /tmp/dataset/test/380.jpg  \n",
            "  inflating: /tmp/dataset/test/238.jpg  \n",
            "  inflating: /tmp/dataset/test/392.jpg  \n",
            "  inflating: /tmp/dataset/test/80.jpg  \n",
            "  inflating: /tmp/dataset/test/517.jpg  \n",
            "  inflating: /tmp/dataset/test/13.jpg  \n",
            "  inflating: /tmp/dataset/test/189.jpg  \n",
            "  inflating: /tmp/dataset/test/390.jpg  \n",
            "  inflating: /tmp/dataset/test/487.jpg  \n",
            "  inflating: /tmp/dataset/test/438.jpg  \n",
            "  inflating: /tmp/dataset/test/482.jpg  \n",
            "  inflating: /tmp/dataset/test/206.jpg  \n",
            "  inflating: /tmp/dataset/test/217.jpg  \n",
            "  inflating: /tmp/dataset/test/285.jpg  \n",
            "  inflating: /tmp/dataset/test/385.jpg  \n",
            "  inflating: /tmp/dataset/test/495.jpg  \n",
            "  inflating: /tmp/dataset/test/269.jpg  \n",
            "  inflating: /tmp/dataset/test/429.jpg  \n",
            "  inflating: /tmp/dataset/test/291.jpg  \n",
            "  inflating: /tmp/dataset/test/461.jpg  \n",
            "  inflating: /tmp/dataset/test/256.jpg  \n",
            "  inflating: /tmp/dataset/test/48.jpg  \n",
            "  inflating: /tmp/dataset/test/290.jpg  \n",
            "  inflating: /tmp/dataset/test/437.jpg  \n",
            "  inflating: /tmp/dataset/test/498.jpg  \n",
            "  inflating: /tmp/dataset/test/173.jpg  \n",
            "  inflating: /tmp/dataset/test/280.jpg  \n",
            "  inflating: /tmp/dataset/test/119.jpg  \n",
            "  inflating: /tmp/dataset/test/363.jpg  \n",
            "  inflating: /tmp/dataset/test/97.jpg  \n",
            "  inflating: /tmp/dataset/test/414.jpg  \n",
            "  inflating: /tmp/dataset/test/386.jpg  \n",
            "  inflating: /tmp/dataset/test/424.jpg  \n",
            "  inflating: /tmp/dataset/test/157.jpg  \n",
            "  inflating: /tmp/dataset/test/33.jpg  \n",
            "  inflating: /tmp/dataset/test/354.jpg  \n",
            "  inflating: /tmp/dataset/test/57.jpg  \n",
            "  inflating: /tmp/dataset/test/108.jpg  \n",
            "  inflating: /tmp/dataset/test/239.jpg  \n",
            "  inflating: /tmp/dataset/test/441.jpg  \n",
            "  inflating: /tmp/dataset/test/215.jpg  \n",
            "  inflating: /tmp/dataset/test/373.jpg  \n",
            "  inflating: /tmp/dataset/test/292.jpg  \n",
            "  inflating: /tmp/dataset/test/110.jpg  \n",
            "  inflating: /tmp/dataset/test/510.jpg  \n",
            "  inflating: /tmp/dataset/test/275.jpg  \n",
            "  inflating: /tmp/dataset/test/366.jpg  \n",
            "  inflating: /tmp/dataset/test/226.jpg  \n",
            "  inflating: /tmp/dataset/test/35.jpg  \n",
            "  inflating: /tmp/dataset/test/458.jpg  \n",
            "  inflating: /tmp/dataset/test/358.jpg  \n",
            "   creating: /tmp/dataset/train/\n",
            "  inflating: /tmp/dataset/train/96.jpg  \n",
            "  inflating: /tmp/dataset/train/163.jpg  \n",
            "  inflating: /tmp/dataset/train/450.jpg  \n",
            "  inflating: /tmp/dataset/train/219.jpg  \n",
            "  inflating: /tmp/dataset/train/455.jpg  \n",
            "  inflating: /tmp/dataset/train/46.jpg  \n",
            "  inflating: /tmp/dataset/train/326.jpg  \n",
            "  inflating: /tmp/dataset/train/408.jpg  \n",
            "  inflating: /tmp/dataset/train/365.jpg  \n",
            "  inflating: /tmp/dataset/train/422.jpg  \n",
            "  inflating: /tmp/dataset/train/397.jpg  \n",
            "  inflating: /tmp/dataset/train/400.jpg  \n",
            "  inflating: /tmp/dataset/train/32.jpg  \n",
            "  inflating: /tmp/dataset/train/350.jpg  \n",
            "  inflating: /tmp/dataset/train/234.jpg  \n",
            "  inflating: /tmp/dataset/train/492.jpg  \n",
            "  inflating: /tmp/dataset/train/333.jpg  \n",
            "  inflating: /tmp/dataset/train/376.jpg  \n",
            "  inflating: /tmp/dataset/train/103.jpg  \n",
            "  inflating: /tmp/dataset/train/39.jpg  \n",
            "  inflating: /tmp/dataset/train/87.jpg  \n",
            "  inflating: /tmp/dataset/train/155.jpg  \n",
            "  inflating: /tmp/dataset/train/388.jpg  \n",
            "  inflating: /tmp/dataset/train/384.jpg  \n",
            "  inflating: /tmp/dataset/train/248.jpg  \n",
            "  inflating: /tmp/dataset/train/494.jpg  \n",
            "  inflating: /tmp/dataset/train/47.jpg  \n",
            "  inflating: /tmp/dataset/train/488.jpg  \n",
            "  inflating: /tmp/dataset/train/462.jpg  \n",
            "  inflating: /tmp/dataset/train/347.jpg  \n",
            "  inflating: /tmp/dataset/train/242.jpg  \n",
            "  inflating: /tmp/dataset/train/16.jpg  \n",
            "  inflating: /tmp/dataset/train/178.jpg  \n",
            "  inflating: /tmp/dataset/train/348.jpg  \n",
            "  inflating: /tmp/dataset/train/164.jpg  \n",
            "  inflating: /tmp/dataset/train/2.jpg  \n",
            "  inflating: /tmp/dataset/train/141.jpg  \n",
            "  inflating: /tmp/dataset/train/187.jpg  \n",
            "  inflating: /tmp/dataset/train/464.jpg  \n",
            "  inflating: /tmp/dataset/train/472.jpg  \n",
            "  inflating: /tmp/dataset/train/489.jpg  \n",
            "  inflating: /tmp/dataset/train/387.jpg  \n",
            "  inflating: /tmp/dataset/train/109.jpg  \n",
            "  inflating: /tmp/dataset/train/255.jpg  \n",
            "  inflating: /tmp/dataset/train/274.jpg  \n",
            "  inflating: /tmp/dataset/train/509.jpg  \n",
            "  inflating: /tmp/dataset/train/19.jpg  \n",
            "  inflating: /tmp/dataset/train/102.jpg  \n",
            "  inflating: /tmp/dataset/train/24.jpg  \n",
            "  inflating: /tmp/dataset/train/294.jpg  \n",
            "  inflating: /tmp/dataset/train/501.jpg  \n",
            "  inflating: /tmp/dataset/train/335.jpg  \n",
            "  inflating: /tmp/dataset/train/321.jpg  \n",
            "  inflating: /tmp/dataset/train/480.jpg  \n",
            "  inflating: /tmp/dataset/train/393.jpg  \n",
            "  inflating: /tmp/dataset/train/344.jpg  \n",
            "  inflating: /tmp/dataset/train/259.jpg  \n",
            "  inflating: /tmp/dataset/train/76.jpg  \n",
            "  inflating: /tmp/dataset/train/343.jpg  \n",
            "  inflating: /tmp/dataset/train/4.jpg  \n",
            "  inflating: /tmp/dataset/train/486.jpg  \n",
            "  inflating: /tmp/dataset/train/361.jpg  \n",
            "  inflating: /tmp/dataset/train/90.jpg  \n",
            "  inflating: /tmp/dataset/train/231.jpg  \n",
            "  inflating: /tmp/dataset/train/331.jpg  \n",
            "  inflating: /tmp/dataset/train/243.jpg  \n",
            "  inflating: /tmp/dataset/train/104.jpg  \n",
            "  inflating: /tmp/dataset/train/113.jpg  \n",
            "  inflating: /tmp/dataset/train/21.jpg  \n",
            "  inflating: /tmp/dataset/train/15.jpg  \n",
            "  inflating: /tmp/dataset/train/370.jpg  \n",
            "  inflating: /tmp/dataset/train/124.jpg  \n",
            "  inflating: /tmp/dataset/train/241.jpg  \n",
            "  inflating: /tmp/dataset/train/56.jpg  \n",
            "  inflating: /tmp/dataset/train/296.jpg  \n",
            "  inflating: /tmp/dataset/train/81.jpg  \n",
            "  inflating: /tmp/dataset/train/29.jpg  \n",
            "  inflating: /tmp/dataset/train/423.jpg  \n",
            "  inflating: /tmp/dataset/train/445.jpg  \n",
            "  inflating: /tmp/dataset/train/406.jpg  \n",
            "  inflating: /tmp/dataset/train/116.jpg  \n",
            "  inflating: /tmp/dataset/train/407.jpg  \n",
            "  inflating: /tmp/dataset/train/118.jpg  \n",
            "  inflating: /tmp/dataset/train/367.jpg  \n",
            "  inflating: /tmp/dataset/train/30.jpg  \n",
            "  inflating: /tmp/dataset/train/395.jpg  \n",
            "  inflating: /tmp/dataset/train/265.jpg  \n",
            "  inflating: /tmp/dataset/train/73.jpg  \n",
            "  inflating: /tmp/dataset/train/277.jpg  \n",
            "  inflating: /tmp/dataset/train/122.jpg  \n",
            "  inflating: /tmp/dataset/train/516.jpg  \n",
            "  inflating: /tmp/dataset/train/377.jpg  \n",
            "  inflating: /tmp/dataset/train/513.jpg  \n",
            "  inflating: /tmp/dataset/train/405.jpg  \n",
            "  inflating: /tmp/dataset/train/172.jpg  \n",
            "  inflating: /tmp/dataset/train/299.jpg  \n",
            "  inflating: /tmp/dataset/train/149.jpg  \n",
            "  inflating: /tmp/dataset/train/165.jpg  \n",
            "  inflating: /tmp/dataset/train/371.jpg  \n",
            "  inflating: /tmp/dataset/train/18.jpg  \n",
            "  inflating: /tmp/dataset/train/213.jpg  \n",
            "  inflating: /tmp/dataset/train/303.jpg  \n",
            "  inflating: /tmp/dataset/train/353.jpg  \n",
            "  inflating: /tmp/dataset/train/135.jpg  \n",
            "  inflating: /tmp/dataset/train/481.jpg  \n",
            "  inflating: /tmp/dataset/train/3.jpg  \n",
            "  inflating: /tmp/dataset/train/329.jpg  \n",
            "  inflating: /tmp/dataset/train/345.jpg  \n",
            "  inflating: /tmp/dataset/train/443.jpg  \n",
            "  inflating: /tmp/dataset/train/504.jpg  \n",
            "  inflating: /tmp/dataset/train/12.jpg  \n",
            "  inflating: /tmp/dataset/train/74.jpg  \n",
            "  inflating: /tmp/dataset/train/185.jpg  \n",
            "  inflating: /tmp/dataset/train/161.jpg  \n",
            "  inflating: /tmp/dataset/train/309.jpg  \n",
            "  inflating: /tmp/dataset/train/205.jpg  \n",
            "  inflating: /tmp/dataset/train/379.jpg  \n",
            "  inflating: /tmp/dataset/train/82.jpg  \n",
            "  inflating: /tmp/dataset/train/276.jpg  \n",
            "  inflating: /tmp/dataset/train/154.jpg  \n",
            "  inflating: /tmp/dataset/train/254.jpg  \n",
            "  inflating: /tmp/dataset/train/26.jpg  \n",
            "  inflating: /tmp/dataset/train/181.jpg  \n",
            "  inflating: /tmp/dataset/train/425.jpg  \n",
            "  inflating: /tmp/dataset/train/131.jpg  \n",
            "  inflating: /tmp/dataset/train/272.jpg  \n",
            "  inflating: /tmp/dataset/train/117.jpg  \n",
            "  inflating: /tmp/dataset/train/252.jpg  \n",
            "  inflating: /tmp/dataset/train/180.jpg  \n",
            "  inflating: /tmp/dataset/train/142.jpg  \n",
            "  inflating: /tmp/dataset/train/261.jpg  \n",
            "  inflating: /tmp/dataset/train/136.jpg  \n",
            "  inflating: /tmp/dataset/train/85.jpg  \n",
            "  inflating: /tmp/dataset/train/88.jpg  \n",
            "  inflating: /tmp/dataset/train/372.jpg  \n",
            "  inflating: /tmp/dataset/train/279.jpg  \n",
            "  inflating: /tmp/dataset/train/313.jpg  \n",
            "  inflating: /tmp/dataset/train/159.jpg  \n",
            "  inflating: /tmp/dataset/train/483.jpg  \n",
            "  inflating: /tmp/dataset/train/262.jpg  \n",
            "  inflating: /tmp/dataset/train/519.jpg  \n",
            "  inflating: /tmp/dataset/train/308.jpg  \n",
            "  inflating: /tmp/dataset/train/211.jpg  \n",
            "  inflating: /tmp/dataset/train/497.jpg  \n",
            "  inflating: /tmp/dataset/train/325.jpg  \n",
            "  inflating: /tmp/dataset/train/169.jpg  \n",
            "  inflating: /tmp/dataset/train/244.jpg  \n",
            "  inflating: /tmp/dataset/train/474.jpg  \n",
            "  inflating: /tmp/dataset/train/322.jpg  \n",
            "  inflating: /tmp/dataset/train/94.jpg  \n",
            "  inflating: /tmp/dataset/train/314.jpg  \n",
            "  inflating: /tmp/dataset/train/356.jpg  \n",
            "  inflating: /tmp/dataset/train/22.jpg  \n",
            "  inflating: /tmp/dataset/train/512.jpg  \n",
            "  inflating: /tmp/dataset/train/182.jpg  \n",
            "  inflating: /tmp/dataset/train/156.jpg  \n",
            "  inflating: /tmp/dataset/train/289.jpg  \n",
            "  inflating: /tmp/dataset/train/25.jpg  \n",
            "  inflating: /tmp/dataset/train/436.jpg  \n",
            "  inflating: /tmp/dataset/train/93.jpg  \n",
            "  inflating: /tmp/dataset/train/336.jpg  \n",
            "  inflating: /tmp/dataset/train/225.jpg  \n",
            "  inflating: /tmp/dataset/train/298.jpg  \n",
            "  inflating: /tmp/dataset/train/214.jpg  \n",
            "  inflating: /tmp/dataset/train/27.jpg  \n",
            "  inflating: /tmp/dataset/train/342.jpg  \n",
            "  inflating: /tmp/dataset/train/273.jpg  \n",
            "  inflating: /tmp/dataset/train/133.jpg  \n",
            "  inflating: /tmp/dataset/train/168.jpg  \n",
            "  inflating: /tmp/dataset/train/409.jpg  \n",
            "  inflating: /tmp/dataset/train/459.jpg  \n",
            "  inflating: /tmp/dataset/train/31.jpg  \n",
            "  inflating: /tmp/dataset/train/468.jpg  \n",
            "  inflating: /tmp/dataset/train/434.jpg  \n",
            "  inflating: /tmp/dataset/train/312.jpg  \n",
            "  inflating: /tmp/dataset/train/383.jpg  \n",
            "  inflating: /tmp/dataset/train/476.jpg  \n",
            "  inflating: /tmp/dataset/train/334.jpg  \n",
            "  inflating: /tmp/dataset/train/151.jpg  \n",
            "  inflating: /tmp/dataset/train/166.jpg  \n",
            "  inflating: /tmp/dataset/train/227.jpg  \n",
            "  inflating: /tmp/dataset/train/471.jpg  \n",
            "  inflating: /tmp/dataset/train/267.jpg  \n",
            "  inflating: /tmp/dataset/train/100.jpg  \n",
            "  inflating: /tmp/dataset/train/446.jpg  \n",
            "  inflating: /tmp/dataset/train/208.jpg  \n",
            "  inflating: /tmp/dataset/train/293.jpg  \n",
            "  inflating: /tmp/dataset/train/297.jpg  \n",
            "  inflating: /tmp/dataset/train/412.jpg  \n",
            "  inflating: /tmp/dataset/train/58.jpg  \n",
            "  inflating: /tmp/dataset/train/288.jpg  \n",
            "  inflating: /tmp/dataset/train/105.jpg  \n",
            "  inflating: /tmp/dataset/train/477.jpg  \n",
            "  inflating: /tmp/dataset/train/502.jpg  \n",
            "  inflating: /tmp/dataset/train/418.jpg  \n",
            "  inflating: /tmp/dataset/train/233.jpg  \n",
            "  inflating: /tmp/dataset/train/134.jpg  \n",
            "  inflating: /tmp/dataset/train/197.jpg  \n",
            "  inflating: /tmp/dataset/train/245.jpg  \n",
            "  inflating: /tmp/dataset/train/176.jpg  \n",
            "  inflating: /tmp/dataset/train/203.jpg  \n",
            "  inflating: /tmp/dataset/train/247.jpg  \n",
            "  inflating: /tmp/dataset/train/493.jpg  \n",
            "  inflating: /tmp/dataset/train/68.jpg  \n",
            "  inflating: /tmp/dataset/train/442.jpg  \n",
            "  inflating: /tmp/dataset/train/115.jpg  \n",
            "  inflating: /tmp/dataset/train/357.jpg  \n",
            "  inflating: /tmp/dataset/train/389.jpg  \n",
            "  inflating: /tmp/dataset/train/218.jpg  \n",
            "  inflating: /tmp/dataset/train/263.jpg  \n",
            "  inflating: /tmp/dataset/train/184.jpg  \n",
            "  inflating: /tmp/dataset/train/315.jpg  \n",
            "  inflating: /tmp/dataset/train/295.jpg  \n",
            "  inflating: /tmp/dataset/train/42.jpg  \n",
            "  inflating: /tmp/dataset/train/427.jpg  \n",
            "  inflating: /tmp/dataset/train/287.jpg  \n",
            "  inflating: /tmp/dataset/train/430.jpg  \n",
            "  inflating: /tmp/dataset/train/359.jpg  \n",
            "  inflating: /tmp/dataset/train/249.jpg  \n",
            "  inflating: /tmp/dataset/train/54.jpg  \n",
            "  inflating: /tmp/dataset/train/305.jpg  \n",
            "  inflating: /tmp/dataset/train/319.jpg  \n",
            "  inflating: /tmp/dataset/train/496.jpg  \n",
            "  inflating: /tmp/dataset/train/60.jpg  \n",
            "  inflating: /tmp/dataset/train/37.jpg  \n",
            "  inflating: /tmp/dataset/train/192.jpg  \n",
            "  inflating: /tmp/dataset/train/304.jpg  \n",
            "  inflating: /tmp/dataset/train/258.jpg  \n",
            "  inflating: /tmp/dataset/train/364.jpg  \n",
            "  inflating: /tmp/dataset/train/49.jpg  \n",
            "  inflating: /tmp/dataset/train/144.jpg  \n",
            "  inflating: /tmp/dataset/train/7.jpg  \n",
            "  inflating: /tmp/dataset/train/98.jpg  \n",
            "  inflating: /tmp/dataset/train/223.jpg  \n",
            "  inflating: /tmp/dataset/train/320.jpg  \n",
            "  inflating: /tmp/dataset/train/70.jpg  \n",
            "  inflating: /tmp/dataset/train/426.jpg  \n",
            "  inflating: /tmp/dataset/train/84.jpg  \n",
            "  inflating: /tmp/dataset/train/44.jpg  \n",
            "  inflating: /tmp/dataset/train/177.jpg  \n",
            "  inflating: /tmp/dataset/train/50.jpg  \n",
            "  inflating: /tmp/dataset/train/417.jpg  \n",
            "  inflating: /tmp/dataset/train/191.jpg  \n",
            "  inflating: /tmp/dataset/train/221.jpg  \n",
            "  inflating: /tmp/dataset/train/500.jpg  \n",
            "  inflating: /tmp/dataset/train/428.jpg  \n",
            "  inflating: /tmp/dataset/train/137.jpg  \n",
            "  inflating: /tmp/dataset/train/195.jpg  \n",
            "  inflating: /tmp/dataset/train/413.jpg  \n",
            "  inflating: /tmp/dataset/train/228.jpg  \n",
            "  inflating: /tmp/dataset/train/478.jpg  \n",
            "  inflating: /tmp/dataset/train/123.jpg  \n",
            "  inflating: /tmp/dataset/train/369.jpg  \n",
            "  inflating: /tmp/dataset/train/328.jpg  \n",
            "  inflating: /tmp/dataset/train/1.jpg  \n",
            "  inflating: /tmp/dataset/train/126.jpg  \n",
            "  inflating: /tmp/dataset/train/503.jpg  \n",
            "  inflating: /tmp/dataset/train/352.jpg  \n",
            "  inflating: /tmp/dataset/train/120.jpg  \n",
            "  inflating: /tmp/dataset/train/452.jpg  \n",
            "  inflating: /tmp/dataset/train/339.jpg  \n",
            "  inflating: /tmp/dataset/train/266.jpg  \n",
            "  inflating: /tmp/dataset/train/201.jpg  \n",
            "  inflating: /tmp/dataset/train/229.jpg  \n",
            "  inflating: /tmp/dataset/train/402.jpg  \n",
            "  inflating: /tmp/dataset/train/381.jpg  \n",
            "  inflating: /tmp/dataset/train/449.jpg  \n",
            "  inflating: /tmp/dataset/train/107.jpg  \n",
            "  inflating: /tmp/dataset/train/444.jpg  \n",
            "  inflating: /tmp/dataset/train/327.jpg  \n",
            "  inflating: /tmp/dataset/train/8.jpg  \n",
            "  inflating: /tmp/dataset/train/451.jpg  \n",
            "  inflating: /tmp/dataset/train/77.jpg  \n",
            "  inflating: /tmp/dataset/train/148.jpg  \n",
            "  inflating: /tmp/dataset/train/399.jpg  \n",
            "  inflating: /tmp/dataset/train/130.jpg  \n",
            "  inflating: /tmp/dataset/train/362.jpg  \n",
            "  inflating: /tmp/dataset/train/310.jpg  \n",
            "  inflating: /tmp/dataset/train/79.jpg  \n",
            "  inflating: /tmp/dataset/train/127.jpg  \n",
            "  inflating: /tmp/dataset/train/237.jpg  \n",
            "  inflating: /tmp/dataset/train/257.jpg  \n",
            "  inflating: /tmp/dataset/train/160.jpg  \n",
            "  inflating: /tmp/dataset/train/52.jpg  \n",
            "  inflating: /tmp/dataset/train/190.jpg  \n",
            "  inflating: /tmp/dataset/train/382.jpg  \n",
            "  inflating: /tmp/dataset/train/143.jpg  \n",
            "  inflating: /tmp/dataset/train/199.jpg  \n",
            "  inflating: /tmp/dataset/train/282.jpg  \n",
            "  inflating: /tmp/dataset/train/207.jpg  \n",
            "  inflating: /tmp/dataset/train/403.jpg  \n",
            "  inflating: /tmp/dataset/train/337.jpg  \n",
            "  inflating: /tmp/dataset/train/355.jpg  \n",
            "  inflating: /tmp/dataset/train/251.jpg  \n",
            "  inflating: /tmp/dataset/train/188.jpg  \n",
            "  inflating: /tmp/dataset/train/338.jpg  \n",
            "  inflating: /tmp/dataset/train/341.jpg  \n",
            "  inflating: /tmp/dataset/train/433.jpg  \n",
            "  inflating: /tmp/dataset/train/69.jpg  \n",
            "  inflating: /tmp/dataset/train/236.jpg  \n",
            "  inflating: /tmp/dataset/train/106.jpg  \n",
            "  inflating: /tmp/dataset/train/99.jpg  \n",
            "  inflating: /tmp/dataset/train/179.jpg  \n",
            "  inflating: /tmp/dataset/train/204.jpg  \n",
            "  inflating: /tmp/dataset/train/300.jpg  \n",
            "  inflating: /tmp/dataset/train/432.jpg  \n",
            "  inflating: /tmp/dataset/train/490.jpg  \n",
            "  inflating: /tmp/dataset/train/368.jpg  \n",
            "  inflating: /tmp/dataset/train/153.jpg  \n",
            "  inflating: /tmp/dataset/train/174.jpg  \n",
            "  inflating: /tmp/dataset/train/51.jpg  \n",
            "  inflating: /tmp/dataset/train/62.jpg  \n",
            "  inflating: /tmp/dataset/train/420.jpg  \n",
            "  inflating: /tmp/dataset/train/75.jpg  \n",
            "  inflating: /tmp/dataset/train/230.jpg  \n",
            "  inflating: /tmp/dataset/train/307.jpg  \n",
            "  inflating: /tmp/dataset/train/212.jpg  \n",
            "  inflating: /tmp/dataset/train/209.jpg  \n",
            "  inflating: /tmp/dataset/train/415.jpg  \n",
            "  inflating: /tmp/dataset/train/491.jpg  \n",
            "  inflating: /tmp/dataset/train/453.jpg  \n",
            "  inflating: /tmp/dataset/train/351.jpg  \n",
            "  inflating: /tmp/dataset/train/111.jpg  \n",
            "  inflating: /tmp/dataset/train/391.jpg  \n",
            "  inflating: /tmp/dataset/train/515.jpg  \n",
            "  inflating: /tmp/dataset/train/65.jpg  \n",
            "  inflating: /tmp/dataset/train/240.jpg  \n",
            "  inflating: /tmp/dataset/train/91.jpg  \n",
            "  inflating: /tmp/dataset/train/222.jpg  \n",
            "  inflating: /tmp/dataset/train/53.jpg  \n",
            "  inflating: /tmp/dataset/train/158.jpg  \n",
            "  inflating: /tmp/dataset/train/475.jpg  \n",
            "  inflating: /tmp/dataset/train/121.jpg  \n",
            "  inflating: /tmp/dataset/train/396.jpg  \n",
            "  inflating: /tmp/dataset/train/63.jpg  \n",
            "  inflating: /tmp/dataset/train/268.jpg  \n",
            "  inflating: /tmp/dataset/train/78.jpg  \n",
            "  inflating: /tmp/dataset/train/167.jpg  \n",
            "  inflating: /tmp/dataset/train/250.jpg  \n",
            "  inflating: /tmp/dataset/train/454.jpg  \n",
            "  inflating: /tmp/dataset/train/186.jpg  \n",
            "  inflating: /tmp/dataset/train/499.jpg  \n",
            "  inflating: /tmp/dataset/train/101.jpg  \n",
            "  inflating: /tmp/dataset/train/435.jpg  \n",
            "  inflating: /tmp/dataset/train/469.jpg  \n",
            "  inflating: /tmp/dataset/train/139.jpg  \n",
            "  inflating: /tmp/dataset/train/83.jpg  \n",
            "  inflating: /tmp/dataset/train/43.jpg  \n",
            "  inflating: /tmp/dataset/train/281.jpg  \n",
            "  inflating: /tmp/dataset/train/36.jpg  \n",
            "  inflating: /tmp/dataset/train/419.jpg  \n",
            "  inflating: /tmp/dataset/train/66.jpg  \n",
            "  inflating: /tmp/dataset/train/260.jpg  \n",
            "  inflating: /tmp/dataset/train/466.jpg  \n",
            "  inflating: /tmp/dataset/train/140.jpg  \n",
            "  inflating: /tmp/dataset/train/5.jpg  \n",
            "  inflating: /tmp/dataset/train/10.jpg  \n",
            "  inflating: /tmp/dataset/train/235.jpg  \n",
            "  inflating: /tmp/dataset/train/511.jpg  \n",
            "  inflating: /tmp/dataset/train/72.jpg  \n",
            "  inflating: /tmp/dataset/train/253.jpg  \n",
            "  inflating: /tmp/dataset/train/404.jpg  \n",
            "  inflating: /tmp/dataset/train/89.jpg  \n",
            "  inflating: /tmp/dataset/train/311.jpg  \n",
            "  inflating: /tmp/dataset/test.csv   \n",
            "  inflating: /tmp/dataset/train.csv  \n"
          ],
          "name": "stdout"
        }
      ]
    },
    {
      "cell_type": "code",
      "metadata": {
        "id": "OcsoK2g2hvI1",
        "colab_type": "code",
        "colab": {}
      },
      "source": [
        "import torch\n",
        "import torch.nn as nn\n",
        "import torch.nn.functional as F\n",
        "from torch.utils.data import DataLoader, Dataset\n",
        "from skimage import io, transform\n",
        "from __future__ import print_function, division\n",
        "import torch.optim as optim\n",
        "from torch.optim import lr_scheduler\n",
        "import numpy as np\n",
        "import torchvision\n",
        "from torchvision import datasets, models, transforms\n",
        "import matplotlib.pyplot as plt\n",
        "import time\n",
        "import os\n",
        "import copy\n",
        "import pandas as pd\n",
        "import matplotlib.pyplot as plt\n",
        "%matplotlib inline"
      ],
      "execution_count": null,
      "outputs": []
    },
    {
      "cell_type": "code",
      "metadata": {
        "id": "a9YC4TsYh0Sa",
        "colab_type": "code",
        "colab": {}
      },
      "source": [
        "import os\n",
        "from PIL import Image\n",
        "from IPython.display import display\n",
        "\n",
        "# Filter harmless warnings\n",
        "import warnings\n",
        "warnings.filterwarnings(\"ignore\")"
      ],
      "execution_count": null,
      "outputs": []
    },
    {
      "cell_type": "code",
      "metadata": {
        "id": "l6oi6dG3h88x",
        "colab_type": "code",
        "colab": {}
      },
      "source": [
        "dftrain = pd.read_csv('/tmp/dataset/train.csv')\n",
        "dftest = pd.read_csv('/tmp/dataset/test.csv')"
      ],
      "execution_count": null,
      "outputs": []
    },
    {
      "cell_type": "code",
      "metadata": {
        "id": "HgQSBQSf2Q4a",
        "colab_type": "code",
        "colab": {
          "base_uri": "https://localhost:8080/",
          "height": 197
        },
        "outputId": "ed70f6f3-0144-4dbd-d0e3-45387e35a551"
      },
      "source": [
        "dftrain.head()"
      ],
      "execution_count": null,
      "outputs": [
        {
          "output_type": "execute_result",
          "data": {
            "text/html": [
              "<div>\n",
              "<style scoped>\n",
              "    .dataframe tbody tr th:only-of-type {\n",
              "        vertical-align: middle;\n",
              "    }\n",
              "\n",
              "    .dataframe tbody tr th {\n",
              "        vertical-align: top;\n",
              "    }\n",
              "\n",
              "    .dataframe thead th {\n",
              "        text-align: right;\n",
              "    }\n",
              "</style>\n",
              "<table border=\"1\" class=\"dataframe\">\n",
              "  <thead>\n",
              "    <tr style=\"text-align: right;\">\n",
              "      <th></th>\n",
              "      <th>Image</th>\n",
              "      <th>target</th>\n",
              "    </tr>\n",
              "  </thead>\n",
              "  <tbody>\n",
              "    <tr>\n",
              "      <th>0</th>\n",
              "      <td>96.jpg</td>\n",
              "      <td>manipuri</td>\n",
              "    </tr>\n",
              "    <tr>\n",
              "      <th>1</th>\n",
              "      <td>163.jpg</td>\n",
              "      <td>bharatanatyam</td>\n",
              "    </tr>\n",
              "    <tr>\n",
              "      <th>2</th>\n",
              "      <td>450.jpg</td>\n",
              "      <td>odissi</td>\n",
              "    </tr>\n",
              "    <tr>\n",
              "      <th>3</th>\n",
              "      <td>219.jpg</td>\n",
              "      <td>kathakali</td>\n",
              "    </tr>\n",
              "    <tr>\n",
              "      <th>4</th>\n",
              "      <td>455.jpg</td>\n",
              "      <td>odissi</td>\n",
              "    </tr>\n",
              "  </tbody>\n",
              "</table>\n",
              "</div>"
            ],
            "text/plain": [
              "     Image         target\n",
              "0   96.jpg       manipuri\n",
              "1  163.jpg  bharatanatyam\n",
              "2  450.jpg         odissi\n",
              "3  219.jpg      kathakali\n",
              "4  455.jpg         odissi"
            ]
          },
          "metadata": {
            "tags": []
          },
          "execution_count": 6
        }
      ]
    },
    {
      "cell_type": "code",
      "metadata": {
        "id": "tCDwlTC02eFn",
        "colab_type": "code",
        "colab": {
          "base_uri": "https://localhost:8080/",
          "height": 296
        },
        "outputId": "048443ee-09b8-4e93-8dfb-394fa662e4f4"
      },
      "source": [
        "import seaborn as sns\n",
        "sns.countplot(\"target\",data = dftrain)"
      ],
      "execution_count": null,
      "outputs": [
        {
          "output_type": "execute_result",
          "data": {
            "text/plain": [
              "<matplotlib.axes._subplots.AxesSubplot at 0x7f5249c7a358>"
            ]
          },
          "metadata": {
            "tags": []
          },
          "execution_count": 7
        },
        {
          "output_type": "display_data",
          "data": {
            "image/png": "[encoded data removed]",
            "text/plain": [
              "<Figure size 432x288 with 1 Axes>"
            ]
          },
          "metadata": {
            "tags": [],
            "needs_background": "light"
          }
        }
      ]
    },
    {
      "cell_type": "code",
      "metadata": {
        "id": "UCWh1jQZiBdB",
        "colab_type": "code",
        "colab": {}
      },
      "source": [
        "target_map={'manipuri':0, 'bharatanatyam':1, 'odissi':2, 'kathakali':3, 'kathak':4,'sattriya':5, 'kuchipudi':6, 'mohiniyattam':7}\n",
        "dftrain['target']=dftrain['target'].map(target_map)"
      ],
      "execution_count": null,
      "outputs": []
    },
    {
      "cell_type": "code",
      "metadata": {
        "id": "OgCfTxmEqATq",
        "colab_type": "code",
        "colab": {
          "base_uri": "https://localhost:8080/",
          "height": 197
        },
        "outputId": "c586aeec-2128-4ba1-aa62-ef1a6d43de44"
      },
      "source": [
        "dftrain.head()"
      ],
      "execution_count": null,
      "outputs": [
        {
          "output_type": "execute_result",
          "data": {
            "text/html": [
              "<div>\n",
              "<style scoped>\n",
              "    .dataframe tbody tr th:only-of-type {\n",
              "        vertical-align: middle;\n",
              "    }\n",
              "\n",
              "    .dataframe tbody tr th {\n",
              "        vertical-align: top;\n",
              "    }\n",
              "\n",
              "    .dataframe thead th {\n",
              "        text-align: right;\n",
              "    }\n",
              "</style>\n",
              "<table border=\"1\" class=\"dataframe\">\n",
              "  <thead>\n",
              "    <tr style=\"text-align: right;\">\n",
              "      <th></th>\n",
              "      <th>Image</th>\n",
              "      <th>target</th>\n",
              "    </tr>\n",
              "  </thead>\n",
              "  <tbody>\n",
              "    <tr>\n",
              "      <th>0</th>\n",
              "      <td>96.jpg</td>\n",
              "      <td>0</td>\n",
              "    </tr>\n",
              "    <tr>\n",
              "      <th>1</th>\n",
              "      <td>163.jpg</td>\n",
              "      <td>1</td>\n",
              "    </tr>\n",
              "    <tr>\n",
              "      <th>2</th>\n",
              "      <td>450.jpg</td>\n",
              "      <td>2</td>\n",
              "    </tr>\n",
              "    <tr>\n",
              "      <th>3</th>\n",
              "      <td>219.jpg</td>\n",
              "      <td>3</td>\n",
              "    </tr>\n",
              "    <tr>\n",
              "      <th>4</th>\n",
              "      <td>455.jpg</td>\n",
              "      <td>2</td>\n",
              "    </tr>\n",
              "  </tbody>\n",
              "</table>\n",
              "</div>"
            ],
            "text/plain": [
              "     Image  target\n",
              "0   96.jpg       0\n",
              "1  163.jpg       1\n",
              "2  450.jpg       2\n",
              "3  219.jpg       3\n",
              "4  455.jpg       2"
            ]
          },
          "metadata": {
            "tags": []
          },
          "execution_count": 9
        }
      ]
    },
    {
      "cell_type": "code",
      "metadata": {
        "id": "kudIzrBSqBlK",
        "colab_type": "code",
        "colab": {}
      },
      "source": [
        "from sklearn.utils import shuffle\n",
        "dftrain = shuffle(dftrain)\n",
        "training=dftrain[:292]\n",
        "validation=dftrain[292:]"
      ],
      "execution_count": null,
      "outputs": []
    },
    {
      "cell_type": "code",
      "metadata": {
        "id": "KS20nhoX3JDO",
        "colab_type": "code",
        "colab": {
          "base_uri": "https://localhost:8080/",
          "height": 296
        },
        "outputId": "663b82f1-e291-4e6a-cace-9fc89a1a8ab0"
      },
      "source": [
        "sns.countplot(\"target\",data = training)"
      ],
      "execution_count": null,
      "outputs": [
        {
          "output_type": "execute_result",
          "data": {
            "text/plain": [
              "<matplotlib.axes._subplots.AxesSubplot at 0x7f5248bb0908>"
            ]
          },
          "metadata": {
            "tags": []
          },
          "execution_count": 27
        },
        {
          "output_type": "display_data",
          "data": {
            "image/png": "[encoded data removed]",
            "text/plain": [
              "<Figure size 432x288 with 1 Axes>"
            ]
          },
          "metadata": {
            "tags": [],
            "needs_background": "light"
          }
        }
      ]
    },
    {
      "cell_type": "code",
      "metadata": {
        "id": "NsGUGPa83BmX",
        "colab_type": "code",
        "colab": {
          "base_uri": "https://localhost:8080/",
          "height": 296
        },
        "outputId": "02184a59-da5b-47a8-92c6-18323114e768"
      },
      "source": [
        "sns.countplot(\"target\",data = validation)"
      ],
      "execution_count": null,
      "outputs": [
        {
          "output_type": "execute_result",
          "data": {
            "text/plain": [
              "<matplotlib.axes._subplots.AxesSubplot at 0x7f5248b33668>"
            ]
          },
          "metadata": {
            "tags": []
          },
          "execution_count": 28
        },
        {
          "output_type": "display_data",
          "data": {
            "image/png": "[encoded data removed]",
            "text/plain": [
              "<Figure size 432x288 with 1 Axes>"
            ]
          },
          "metadata": {
            "tags": [],
            "needs_background": "light"
          }
        }
      ]
    },
    {
      "cell_type": "code",
      "metadata": {
        "id": "bQHr3xOuqFIK",
        "colab_type": "code",
        "colab": {
          "base_uri": "https://localhost:8080/",
          "height": 52
        },
        "outputId": "4d2dc6ac-1529-4003-d514-99b151f1e103"
      },
      "source": [
        "# Start by creating a list\n",
        "img_sizes = []\n",
        "rejected = []\n",
        "\n",
        "for item in training.Image:\n",
        "    try:\n",
        "        with Image.open('/tmp/dataset/train/'+item) as img:\n",
        "            img_sizes.append(img.size)\n",
        "    except:\n",
        "        rejected.append(item)\n",
        "        \n",
        "print(f'Images:  {len(img_sizes)}')\n",
        "print(f'Rejects: {len(rejected)}')"
      ],
      "execution_count": null,
      "outputs": [
        {
          "output_type": "stream",
          "text": [
            "Images:  292\n",
            "Rejects: 0\n"
          ],
          "name": "stdout"
        }
      ]
    },
    {
      "cell_type": "code",
      "metadata": {
        "id": "rLuxQAmTPGqM",
        "colab_type": "code",
        "colab": {
          "base_uri": "https://localhost:8080/",
          "height": 318
        },
        "outputId": "bfe0c495-392e-47ea-c320-be02bc12b673"
      },
      "source": [
        "df_img = pd.DataFrame(img_sizes)\n",
        "\n",
        "# Run summary statistics on image widths\n",
        "df_img[0].describe(),df_img[1].describe()"
      ],
      "execution_count": null,
      "outputs": [
        {
          "output_type": "execute_result",
          "data": {
            "text/plain": [
              "(count     292.000000\n",
              " mean      456.938356\n",
              " std       450.672033\n",
              " min       139.000000\n",
              " 25%       220.000000\n",
              " 50%       275.000000\n",
              " 75%       522.250000\n",
              " max      4477.000000\n",
              " Name: 0, dtype: float64, count     292.000000\n",
              " mean      434.681507\n",
              " std       461.666380\n",
              " min       126.000000\n",
              " 25%       197.750000\n",
              " 50%       274.000000\n",
              " 75%       485.000000\n",
              " max      3872.000000\n",
              " Name: 1, dtype: float64)"
            ]
          },
          "metadata": {
            "tags": []
          },
          "execution_count": 29
        }
      ]
    },
    {
      "cell_type": "code",
      "metadata": {
        "id": "JKb7GQDhqK_4",
        "colab_type": "code",
        "colab": {}
      },
      "source": [
        "train_transform = transforms.Compose([\n",
        "        transforms.RandomRotation(15),      \n",
        "        transforms.RandomHorizontalFlip(), \n",
        "        transforms.Resize(416),             \n",
        "        transforms.CenterCrop(416),        \n",
        "        transforms.ToTensor(),\n",
        "        transforms.Normalize([0.485, 0.456, 0.406],\n",
        "                             [0.229, 0.224, 0.225])\n",
        "    ])\n",
        "\n",
        "test_transform = transforms.Compose([\n",
        "        transforms.Resize(416),\n",
        "        transforms.CenterCrop(416),\n",
        "        transforms.ToTensor(),\n",
        "        transforms.Normalize([0.485, 0.456, 0.406],\n",
        "                             [0.229, 0.224, 0.225])\n",
        "    ])"
      ],
      "execution_count": null,
      "outputs": []
    },
    {
      "cell_type": "code",
      "metadata": {
        "id": "XZo3kogHqMH4",
        "colab_type": "code",
        "colab": {}
      },
      "source": [
        "class CustomDataset(Dataset):\n",
        "\n",
        "    def __init__(self, imgz,labels=None, root_dir='', transform=None):\n",
        "        \"\"\"\n",
        "        Args:\n",
        "            csv_file (string): Path to the csv file with annotations.\n",
        "            root_dir (string): Directory with all the images.\n",
        "            transform (callable, optional): Optional transform to be applied\n",
        "                on a sample.\n",
        "        \"\"\"\n",
        "        self.images = imgz\n",
        "        self.labels = labels\n",
        "        self.root_dir = root_dir\n",
        "        self.transform = transform\n",
        "\n",
        "    def __len__(self):\n",
        "        return len(self.images)\n",
        "\n",
        "    def __getitem__(self, idx):\n",
        "        if torch.is_tensor(idx):\n",
        "            idx = idx.tolist()\n",
        "\n",
        "        img_name = os.path.join(self.root_dir,self.images[idx])\n",
        "        image = Image.open(img_name).convert('RGB')\n",
        "#         plt.imshow(image)\n",
        "        if self.transform:\n",
        "            image = self.transform(image)\n",
        "        if self.labels is not None:\n",
        "            return image, self.labels[idx]\n",
        "        else:\n",
        "            return image"
      ],
      "execution_count": null,
      "outputs": []
    },
    {
      "cell_type": "code",
      "metadata": {
        "id": "zSo0K-4-qcxE",
        "colab_type": "code",
        "colab": {}
      },
      "source": [
        "train_data = CustomDataset(imgz=training['Image'].values,labels=training['target'].values,root_dir='/tmp/dataset/train/',transform=train_transform)\n",
        "validation_data = CustomDataset(imgz=validation['Image'].values,labels=validation['target'].values,root_dir='/tmp/dataset/train/', transform=test_transform)\n",
        "total_test_data = CustomDataset(imgz=dftest['Image'].values,root_dir='/tmp/dataset/test/', transform=test_transform)"
      ],
      "execution_count": null,
      "outputs": []
    },
    {
      "cell_type": "code",
      "metadata": {
        "id": "8WqcYWBlqgLo",
        "colab_type": "code",
        "colab": {}
      },
      "source": [
        "torch.manual_seed(42)\n",
        "train_loader = DataLoader(train_data, batch_size=128, shuffle=True)\n",
        "validation_loader = DataLoader(validation_data,shuffle=True)"
      ],
      "execution_count": null,
      "outputs": []
    },
    {
      "cell_type": "code",
      "metadata": {
        "id": "LM6oiPFpqify",
        "colab_type": "code",
        "colab": {
          "base_uri": "https://localhost:8080/",
          "height": 70
        },
        "outputId": "324f62fb-faa3-4109-ce80-0779f641db2a"
      },
      "source": [
        "class_names = dftrain.target.unique()\n",
        "\n",
        "print(class_names)\n",
        "print(f'Training images available: {len(train_data)}')\n",
        "print(f'Testing images available:  {len(validation_data)}')"
      ],
      "execution_count": null,
      "outputs": [
        {
          "output_type": "stream",
          "text": [
            "[4 5 7 2 1 3 0 6]\n",
            "Training images available: 292\n",
            "Testing images available:  72\n"
          ],
          "name": "stdout"
        }
      ]
    },
    {
      "cell_type": "code",
      "metadata": {
        "id": "UPpEZin2qlYL",
        "colab_type": "code",
        "colab": {}
      },
      "source": [
        "total_train_data = CustomDataset(imgz=dftrain['Image'].values,labels=dftrain['target'].values,root_dir='/tmp/dataset/train/',transform=train_transform)\n",
        "total_train_loader = DataLoader(total_train_data, batch_size=16, shuffle=True)"
      ],
      "execution_count": null,
      "outputs": []
    },
    {
      "cell_type": "code",
      "metadata": {
        "id": "gUlqxfvLqudx",
        "colab_type": "code",
        "colab": {}
      },
      "source": [
        "def count_parameters(model):\n",
        "    params = [p.numel() for p in model.parameters() if p.requires_grad]\n",
        "    for item in params:\n",
        "        print(f'{item:>8}')\n",
        "    print(f'________\\n{sum(params):>8}')"
      ],
      "execution_count": null,
      "outputs": []
    },
    {
      "cell_type": "code",
      "metadata": {
        "id": "xBr5OhLRqujm",
        "colab_type": "code",
        "colab": {}
      },
      "source": [
        "from torchvision import datasets, transforms, models"
      ],
      "execution_count": null,
      "outputs": []
    },
    {
      "cell_type": "code",
      "metadata": {
        "id": "iikiue-n44Ig",
        "colab_type": "code",
        "colab": {
          "base_uri": "https://localhost:8080/",
          "height": 1000
        },
        "outputId": "4cf24bbe-f043-486d-bfd8-b8f9f38eacbc"
      },
      "source": [
        "dir(models)"
      ],
      "execution_count": null,
      "outputs": [
        {
          "output_type": "execute_result",
          "data": {
            "text/plain": [
              "['AlexNet',\n",
              " 'DenseNet',\n",
              " 'GoogLeNet',\n",
              " 'GoogLeNetOutputs',\n",
              " 'Inception3',\n",
              " 'InceptionOutputs',\n",
              " 'MNASNet',\n",
              " 'MobileNetV2',\n",
              " 'ResNet',\n",
              " 'ShuffleNetV2',\n",
              " 'SqueezeNet',\n",
              " 'VGG',\n",
              " '_GoogLeNetOutputs',\n",
              " '_InceptionOutputs',\n",
              " '__builtins__',\n",
              " '__cached__',\n",
              " '__doc__',\n",
              " '__file__',\n",
              " '__loader__',\n",
              " '__name__',\n",
              " '__package__',\n",
              " '__path__',\n",
              " '__spec__',\n",
              " '_utils',\n",
              " 'alexnet',\n",
              " 'densenet',\n",
              " 'densenet121',\n",
              " 'densenet161',\n",
              " 'densenet169',\n",
              " 'densenet201',\n",
              " 'detection',\n",
              " 'googlenet',\n",
              " 'inception',\n",
              " 'inception_v3',\n",
              " 'mnasnet',\n",
              " 'mnasnet0_5',\n",
              " 'mnasnet0_75',\n",
              " 'mnasnet1_0',\n",
              " 'mnasnet1_3',\n",
              " 'mobilenet',\n",
              " 'mobilenet_v2',\n",
              " 'quantization',\n",
              " 'resnet',\n",
              " 'resnet101',\n",
              " 'resnet152',\n",
              " 'resnet18',\n",
              " 'resnet34',\n",
              " 'resnet50',\n",
              " 'resnext101_32x8d',\n",
              " 'resnext50_32x4d',\n",
              " 'segmentation',\n",
              " 'shufflenet_v2_x0_5',\n",
              " 'shufflenet_v2_x1_0',\n",
              " 'shufflenet_v2_x1_5',\n",
              " 'shufflenet_v2_x2_0',\n",
              " 'shufflenetv2',\n",
              " 'squeezenet',\n",
              " 'squeezenet1_0',\n",
              " 'squeezenet1_1',\n",
              " 'utils',\n",
              " 'vgg',\n",
              " 'vgg11',\n",
              " 'vgg11_bn',\n",
              " 'vgg13',\n",
              " 'vgg13_bn',\n",
              " 'vgg16',\n",
              " 'vgg16_bn',\n",
              " 'vgg19',\n",
              " 'vgg19_bn',\n",
              " 'video',\n",
              " 'wide_resnet101_2',\n",
              " 'wide_resnet50_2']"
            ]
          },
          "metadata": {
            "tags": []
          },
          "execution_count": 39
        }
      ]
    },
    {
      "cell_type": "code",
      "metadata": {
        "id": "zmu0E7Ydn1Ua",
        "colab_type": "code",
        "colab": {}
      },
      "source": [
        "def train_model(model, criterion, optimizer, scheduler, num_epochs=25):\n",
        "    since = time.time()\n",
        "\n",
        "    best_model_wts = copy.deepcopy(model.state_dict())\n",
        "    best_acc = 0.0\n",
        "\n",
        "    for epoch in range(num_epochs):\n",
        "        print('Epoch {}/{}'.format(epoch, num_epochs - 1))\n",
        "        print('-' * 10)\n",
        "\n",
        "        # Each epoch has a training and validation phase\n",
        "        for phase in ['train', 'val']:\n",
        "            if phase == 'train':\n",
        "                model.train()  # Set model to training mode\n",
        "            else:\n",
        "                model.eval()   # Set model to evaluate mode\n",
        "\n",
        "            running_loss = 0.0\n",
        "            running_corrects = 0\n",
        "\n",
        "            # Iterate over data.\n",
        "            for inputs, labels in dataloaders[phase]:\n",
        "\n",
        "\n",
        "                # zero the parameter gradients\n",
        "                optimizer.zero_grad()\n",
        "\n",
        "                # forward\n",
        "                # track history if only in train\n",
        "                with torch.set_grad_enabled(phase == 'train'):\n",
        "                    outputs = model(inputs)\n",
        "                    _, preds = torch.max(outputs, 1)\n",
        "                    loss = criterion(outputs, labels)\n",
        "\n",
        "                    # backward + optimize only if in training phase\n",
        "                    if phase == 'train':\n",
        "                        loss.backward()\n",
        "                        optimizer.step()\n",
        "\n",
        "                # statistics\n",
        "                running_loss += loss.item() * inputs.size(0)\n",
        "                running_corrects += torch.sum(preds == labels.data)\n",
        "            if phase == 'train':\n",
        "                scheduler.step()\n",
        "\n",
        "            epoch_loss = running_loss / dataset_sizes[phase]\n",
        "            epoch_acc = running_corrects.double() / dataset_sizes[phase]\n",
        "\n",
        "            print('{} Loss: {:.4f} Acc: {:.4f}'.format(\n",
        "                phase, epoch_loss, epoch_acc))\n",
        "\n",
        "            # deep copy the model\n",
        "            if phase == 'val' and epoch_acc > best_acc:\n",
        "                best_acc = epoch_acc\n",
        "                best_model_wts = copy.deepcopy(model.state_dict())\n",
        "\n",
        "        print()\n",
        "\n",
        "    time_elapsed = time.time() - since\n",
        "    print('Training complete in {:.0f}m {:.0f}s'.format(\n",
        "        time_elapsed // 60, time_elapsed % 60))\n",
        "    print('Best val Acc: {:4f}'.format(best_acc))\n",
        "\n",
        "    # load best model weights\n",
        "    model.load_state_dict(best_model_wts)\n",
        "    return model"
      ],
      "execution_count": null,
      "outputs": []
    },
    {
      "cell_type": "code",
      "metadata": {
        "id": "WoMJBI1B78mL",
        "colab_type": "code",
        "colab": {}
      },
      "source": [
        "def visualize_model(model, num_images=6):\n",
        "    was_training = model.training\n",
        "    model.eval()\n",
        "    images_so_far = 0\n",
        "    fig = plt.figure()\n",
        "\n",
        "    with torch.no_grad():\n",
        "        for i, (inputs, labels) in enumerate(dataloaders['val']):\n",
        "            inputs = inputs.to(device)\n",
        "            labels = labels.to(device)\n",
        "\n",
        "            outputs = model(inputs)\n",
        "            _, preds = torch.max(outputs, 1)\n",
        "\n",
        "            for j in range(inputs.size()[0]):\n",
        "                images_so_far += 1\n",
        "                ax = plt.subplot(num_images//2, 2, images_so_far)\n",
        "                ax.axis('off')\n",
        "                ax.set_title('predicted: {}'.format(class_names[preds[j]]))\n",
        "                imshow(inputs.cpu().data[j])\n",
        "\n",
        "                if images_so_far == num_images:\n",
        "                    model.train(mode=was_training)\n",
        "                    return\n",
        "        model.train(mode=was_training)"
      ],
      "execution_count": null,
      "outputs": []
    },
    {
      "cell_type": "code",
      "metadata": {
        "id": "nqBBP387Ok06",
        "colab_type": "code",
        "colab": {}
      },
      "source": [
        "def prediciton(net, data_loader):\n",
        "    test_pred = torch.LongTensor()\n",
        "    for i, data in enumerate(data_loader):\n",
        "        if torch.cuda.is_available():\n",
        "          pass\n",
        "\n",
        "        output = net(data)\n",
        "        pred = output.cpu().data.max(1, keepdim=True)[1]\n",
        "        test_pred = torch.cat((test_pred, pred), dim=0)\n",
        "    \n",
        "    return test_pred\n"
      ],
      "execution_count": null,
      "outputs": []
    },
    {
      "cell_type": "markdown",
      "metadata": {
        "id": "T6nvVxvss9Ri",
        "colab_type": "text"
      },
      "source": [
        "Model 1 resnet18 \n",
        "\n",
        "92% accuracy"
      ]
    },
    {
      "cell_type": "code",
      "metadata": {
        "id": "VpEvrsKm8GbA",
        "colab_type": "code",
        "colab": {}
      },
      "source": [
        "from torch import optim\n",
        "model_ft = models.resnet34(pretrained=True)\n",
        "num_ftrs = model_ft.fc.in_features\n",
        "# Here the size of each output sample is set to 2.\n",
        "# Alternatively, it can be generalized to nn.Linear(num_ftrs, len(class_names)).\n",
        "model_ft.fc =  nn.Sequential(nn.Linear(num_ftrs, 256),\n",
        "                                 nn.Dropout(0.5),\n",
        "                                 nn.Linear(256, 8),\n",
        "                                 nn.LogSoftmax(dim=1))\n",
        "\n",
        "\n",
        "\n",
        "criterion = nn.CrossEntropyLoss()\n",
        "\n",
        "# Observe that all parameters are being optimized\n",
        "#optimizer_ft = optim.SGD(model_ft.parameters(), lr=0.001, momentum=0.9)\n",
        "optimizer_ft = optim.Adam(model_ft.parameters(), lr=0.001, betas=(0.9, 0.999), eps=1e-08, weight_decay=0, amsgrad=False)\n",
        "\n",
        "# Decay LR by a factor of 0.1 every 7 epochs\n",
        "exp_lr_scheduler = lr_scheduler.StepLR(optimizer_ft, step_size=7, gamma=0.1)"
      ],
      "execution_count": null,
      "outputs": []
    },
    {
      "cell_type": "markdown",
      "metadata": {
        "id": "K4mnRdG2s_rN",
        "colab_type": "text"
      },
      "source": [
        "\n",
        "\n",
        "\n",
        "Model 2 resnet18\n",
        "\n",
        "87% accuracy\n"
      ]
    },
    {
      "cell_type": "code",
      "metadata": {
        "colab_type": "code",
        "id": "DOt9qhk2sz4a",
        "colab": {
          "base_uri": "https://localhost:8080/",
          "height": 84,
          "referenced_widgets": [
            "1c37962901e54a019bce8f6b36c29624",
            "9f7711400d3241fe96a677b023b8db75",
            "7dd86278b7024ccaa0a5f7ec4780f377",
            "ceef3c15f5114128b079200c6aec9c07",
            "cc3add0129674834802f794322a15039",
            "b07412ae95a94f15a19e90b46eeb9379",
            "f307ec515a2a4eb6843d9ec6b3f95f91",
            "73258e1b94a540bb8971f885ab78e297"
          ]
        },
        "outputId": "1be02200-4e5c-4816-aa9e-d0b6bd28d453"
      },
      "source": [
        "from torch import optim\n",
        "model_ft = models.squeezenet1_0(pretrained=True)\n",
        "\n",
        "                                 \n",
        "model_ft.classifier[1] = nn.Conv2d(512, 8, kernel_size=(1,1), stride=(1,1))\n",
        "\n",
        "\n",
        "criterion = nn.CrossEntropyLoss()\n",
        "\n",
        "# Observe that all parameters are being optimized\n",
        "optimizer_ft = optim.SGD(model_ft.parameters(), lr=0.0001, momentum=0.9)\n",
        "\n",
        "# Decay LR by a factor of 0.1 every 7 epochs\n",
        "exp_lr_scheduler = lr_scheduler.StepLR(optimizer_ft, step_size=7, gamma=0.1)"
      ],
      "execution_count": null,
      "outputs": [
        {
          "output_type": "stream",
          "text": [
            "Downloading: \"https://download.pytorch.org/models/squeezenet1_0-a815701f.pth\" to /root/.cache/torch/checkpoints/squeezenet1_0-a815701f.pth\n"
          ],
          "name": "stderr"
        },
        {
          "output_type": "display_data",
          "data": {
            "application/vnd.jupyter.widget-view+json": {
              "model_id": "1c37962901e54a019bce8f6b36c29624",
              "version_minor": 0,
              "version_major": 2
            },
            "text/plain": [
              "HBox(children=(FloatProgress(value=0.0, max=5017600.0), HTML(value='')))"
            ]
          },
          "metadata": {
            "tags": []
          }
        },
        {
          "output_type": "stream",
          "text": [
            "\n"
          ],
          "name": "stdout"
        }
      ]
    },
    {
      "cell_type": "code",
      "metadata": {
        "id": "JW6PpdLWKBEJ",
        "colab_type": "code",
        "colab": {}
      },
      "source": [
        "dataloaders = {'train':train_loader,\"val\":validation_loader}"
      ],
      "execution_count": null,
      "outputs": []
    },
    {
      "cell_type": "code",
      "metadata": {
        "id": "sEeEKIBMLwtr",
        "colab_type": "code",
        "colab": {}
      },
      "source": [
        "dataset_sizes = {'train':len(train_data),'val':len(validation_data)}"
      ],
      "execution_count": null,
      "outputs": []
    },
    {
      "cell_type": "code",
      "metadata": {
        "id": "JeqYUkCR3nOi",
        "colab_type": "code",
        "colab": {
          "base_uri": "https://localhost:8080/",
          "height": 52
        },
        "outputId": "a969ee2a-5497-43f9-e490-3b91e54016cd"
      },
      "source": [
        "import time\n",
        "import copy\n",
        "model_ft = train_model(model_ft, criterion, optimizer_ft, exp_lr_scheduler,num_epochs=50)"
      ],
      "execution_count": null,
      "outputs": [
        {
          "output_type": "stream",
          "text": [
            "Epoch 0/49\n",
            "----------\n"
          ],
          "name": "stdout"
        }
      ]
    },
    {
      "cell_type": "code",
      "metadata": {
        "id": "ew7ziGAs9QY5",
        "colab_type": "code",
        "colab": {}
      },
      "source": [
        "test_pred = prediciton(model_ft, total_test_loader)"
      ],
      "execution_count": null,
      "outputs": []
    },
    {
      "cell_type": "code",
      "metadata": {
        "id": "wh2zMkz4FYxc",
        "colab_type": "code",
        "colab": {
          "base_uri": "https://localhost:8080/",
          "height": 34
        },
        "outputId": "f98262e3-3c14-4209-fd2b-8ee5a4a9ad49"
      },
      "source": [
        "test_pred.numpy().shape"
      ],
      "execution_count": null,
      "outputs": [
        {
          "output_type": "execute_result",
          "data": {
            "text/plain": [
              "(156, 1)"
            ]
          },
          "metadata": {
            "tags": []
          },
          "execution_count": 41
        }
      ]
    },
    {
      "cell_type": "code",
      "metadata": {
        "id": "Y0eien9zFctJ",
        "colab_type": "code",
        "colab": {}
      },
      "source": [
        "target_map_inv={v:k for k,v in target_map.items()}\n",
        "dftest['target']=test_pred.numpy()\n",
        "dftest.target=dftest.target.map(target_map_inv)"
      ],
      "execution_count": null,
      "outputs": []
    },
    {
      "cell_type": "code",
      "metadata": {
        "id": "FVE0baKZFhR-",
        "colab_type": "code",
        "colab": {}
      },
      "source": [
        "dftest.to_csv('submission.csv',index=False)"
      ],
      "execution_count": null,
      "outputs": []
    },
    {
      "cell_type": "code",
      "metadata": {
        "id": "BW6bXGQYDgLK",
        "colab_type": "code",
        "colab": {}
      },
      "source": [
        "dftest.to_csv('/content/drive/My Drive/DL/submission.csv',index=False)"
      ],
      "execution_count": null,
      "outputs": []
    }
  ]
}